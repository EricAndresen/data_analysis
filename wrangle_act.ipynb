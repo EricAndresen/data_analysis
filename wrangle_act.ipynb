{
 "cells": [
  {
   "cell_type": "code",
   "execution_count": 3,
   "metadata": {
    "collapsed": true
   },
   "outputs": [],
   "source": [
    "import pandas as pd\n",
    "import numpy as np\n",
    "import tweepy\n",
    "import re\n",
    "import json"
   ]
  },
  {
   "cell_type": "markdown",
   "metadata": {},
   "source": [
    "# Gather"
   ]
  },
  {
   "cell_type": "code",
   "execution_count": 45,
   "metadata": {
    "collapsed": true
   },
   "outputs": [],
   "source": [
    "dogs = pd.read_csv('twitter-archive-enhanced.csv')"
   ]
  },
  {
   "cell_type": "code",
   "execution_count": 46,
   "metadata": {
    "collapsed": true
   },
   "outputs": [],
   "source": [
    "url = 'https://d17h27t6h515a5.cloudfront.net/topher/2017/August/599fd2ad_image-predictions/image-predictions.tsv'\n",
    "breeds = pd.read_csv(url, sep = '\\t')"
   ]
  },
  {
   "cell_type": "code",
   "execution_count": 5,
   "metadata": {
    "collapsed": true
   },
   "outputs": [],
   "source": [
    "consumer_key = 'nU7frmuxMeLqQOTYJqc2SrnAT'\n",
    "consumer_secret = 'JH1bzps6IChz7wkq5gNJjAeQSGYEzlIvEY8YiCoaNyGVnMupst'\n",
    "\n",
    "access_token = '775727712291975168-jg4QdBeRynLnp5YfW9PjPdGfjxDU293'\n",
    "access_token_secret = '7sBwYUhqnesBHMpTWoa8StLlwo3cbSq6jIMNa3P3dAV0v'"
   ]
  },
  {
   "cell_type": "code",
   "execution_count": 6,
   "metadata": {
    "collapsed": true
   },
   "outputs": [],
   "source": [
    "auth = tweepy.OAuthHandler(consumer_key, consumer_secret)\n",
    "auth.set_access_token(access_token, access_token_secret)\n",
    "\n",
    "api = tweepy.API(auth, wait_on_rate_limit= True, wait_on_rate_limit_notify= True)"
   ]
  },
  {
   "cell_type": "code",
   "execution_count": 47,
   "metadata": {
    "collapsed": true
   },
   "outputs": [],
   "source": [
    "tweet_id_list = list(dogs.tweet_id)"
   ]
  },
  {
   "cell_type": "code",
   "execution_count": null,
   "metadata": {},
   "outputs": [
    {
     "name": "stdout",
     "output_type": "stream",
     "text": [
      "0\n",
      "1\n",
      "2\n",
      "3\n",
      "4\n",
      "5\n",
      "6\n",
      "7\n",
      "8\n",
      "9\n",
      "10\n",
      "11\n",
      "12\n",
      "13\n",
      "14\n",
      "15\n",
      "16\n",
      "17\n",
      "18\n",
      "Failure: 19\n",
      "20\n",
      "21\n",
      "22\n",
      "23\n",
      "24\n",
      "25\n",
      "26\n",
      "27\n",
      "28\n",
      "29\n",
      "30\n",
      "31\n",
      "32\n",
      "33\n",
      "34\n",
      "35\n",
      "36\n",
      "37\n",
      "38\n",
      "39\n",
      "40\n",
      "41\n",
      "42\n",
      "43\n",
      "44\n",
      "45\n",
      "46\n",
      "47\n",
      "48\n",
      "49\n",
      "50\n",
      "51\n",
      "52\n",
      "53\n",
      "54\n",
      "55\n",
      "56\n",
      "57\n",
      "58\n",
      "59\n",
      "60\n",
      "61\n",
      "62\n",
      "63\n",
      "64\n",
      "65\n",
      "66\n",
      "67\n",
      "68\n",
      "69\n",
      "70\n",
      "71\n"
     ]
    }
   ],
   "source": [
    "#write to file and read back to avoid long query times (query limit by twitter API)\n",
    "tweet_list = list()\n",
    "\n",
    "for tweet_id in tweet_id_list:\n",
    "    try:\n",
    "        tweet = api.get_status(str(tweet_id), tweet_mode='extended')\n",
    "        tweet_list.append(tweet._json)\n",
    "        print(tweet_id_list.index(tweet_id))\n",
    "    except:\n",
    "        print(\"Failure:\", tweet_id_list.index(tweet_id))"
   ]
  },
  {
   "cell_type": "code",
   "execution_count": null,
   "metadata": {
    "collapsed": true
   },
   "outputs": [],
   "source": [
    "#write json to file - one entry per line\n",
    "with open('tweet_json.txt', mode = 'w') as f:\n",
    "    for tweet in tweet_list:\n",
    "        f.write(json.dumps(tweet)+'\\n')"
   ]
  },
  {
   "cell_type": "code",
   "execution_count": 77,
   "metadata": {
    "collapsed": true
   },
   "outputs": [],
   "source": [
    "#read in desired attributes to a dictionary\n",
    "dict_list = list()\n",
    "with open('tweet_json.txt', 'r') as tweet_json:\n",
    "    for _ in range(len(tweet_id_list) - 5):\n",
    "        line = tweet_json.readline()\n",
    "        tweet = json.loads(line)\n",
    "        dict_list.append({\n",
    "            'tweet_id': tweet['id'],\n",
    "            'time': tweet['created_at'],\n",
    "            #this is a hack to access sub dictionary using .get()\n",
    "            'media_type': tweet['entities'].get('media', [{}])[0].get('type', np.NaN),\n",
    "            'favorite_count': tweet['favorite_count'],\n",
    "            'retweet_count': tweet['retweet_count'],\n",
    "        })"
   ]
  },
  {
   "cell_type": "code",
   "execution_count": 49,
   "metadata": {
    "collapsed": true
   },
   "outputs": [],
   "source": [
    "#read dictionary to df\n",
    "tweet_scraped = pd.DataFrame(dict_list)"
   ]
  },
  {
   "cell_type": "markdown",
   "metadata": {},
   "source": [
    "# Assess"
   ]
  },
  {
   "cell_type": "code",
   "execution_count": 50,
   "metadata": {},
   "outputs": [
    {
     "name": "stdout",
     "output_type": "stream",
     "text": [
      "<class 'pandas.core.frame.DataFrame'>\n",
      "RangeIndex: 2356 entries, 0 to 2355\n",
      "Data columns (total 17 columns):\n",
      "tweet_id                      2356 non-null int64\n",
      "in_reply_to_status_id         78 non-null float64\n",
      "in_reply_to_user_id           78 non-null float64\n",
      "timestamp                     2356 non-null object\n",
      "source                        2356 non-null object\n",
      "text                          2356 non-null object\n",
      "retweeted_status_id           181 non-null float64\n",
      "retweeted_status_user_id      181 non-null float64\n",
      "retweeted_status_timestamp    181 non-null object\n",
      "expanded_urls                 2297 non-null object\n",
      "rating_numerator              2356 non-null int64\n",
      "rating_denominator            2356 non-null int64\n",
      "name                          2356 non-null object\n",
      "doggo                         2356 non-null object\n",
      "floofer                       2356 non-null object\n",
      "pupper                        2356 non-null object\n",
      "puppo                         2356 non-null object\n",
      "dtypes: float64(4), int64(3), object(10)\n",
      "memory usage: 313.0+ KB\n"
     ]
    }
   ],
   "source": [
    "dogs.info()"
   ]
  },
  {
   "cell_type": "code",
   "execution_count": null,
   "metadata": {
    "collapsed": true
   },
   "outputs": [],
   "source": [
    "dogs"
   ]
  },
  {
   "cell_type": "code",
   "execution_count": null,
   "metadata": {
    "collapsed": true
   },
   "outputs": [],
   "source": [
    "dogs.rating_denominator.value_counts()\n",
    "dogs[dogs.rating_denominator != 10].shape[0]"
   ]
  },
  {
   "cell_type": "code",
   "execution_count": null,
   "metadata": {
    "collapsed": true
   },
   "outputs": [],
   "source": [
    "dogs.rating_numerator.value_counts().sort_index(ascending = False)"
   ]
  },
  {
   "cell_type": "code",
   "execution_count": null,
   "metadata": {
    "collapsed": true
   },
   "outputs": [],
   "source": [
    "dogs[dogs.rating_numerator >=20][['text','timestamp','rating_numerator']]"
   ]
  },
  {
   "cell_type": "code",
   "execution_count": null,
   "metadata": {
    "collapsed": true
   },
   "outputs": [],
   "source": [
    "#see if more than one stage per picture\n",
    "def get_class(text):\n",
    "    count = 0\n",
    "    if re.search(\"[Dd]oggo\", text):\n",
    "        count += 1\n",
    "    if re.search(\"[Ff]loofer\", text):\n",
    "        count += 1\n",
    "    if re.search(\"[Pp]upper\", text):\n",
    "        count += 1\n",
    "    if re.search(\"[Pp]uppo\", text):\n",
    "        count += 1\n",
    "    return count\n",
    "\n",
    "dogs.text.apply(get_class).value_counts()"
   ]
  },
  {
   "cell_type": "code",
   "execution_count": null,
   "metadata": {
    "collapsed": true
   },
   "outputs": [],
   "source": [
    "breeds.info()"
   ]
  },
  {
   "cell_type": "code",
   "execution_count": null,
   "metadata": {
    "collapsed": true
   },
   "outputs": [],
   "source": [
    "breeds"
   ]
  },
  {
   "cell_type": "code",
   "execution_count": null,
   "metadata": {
    "collapsed": true
   },
   "outputs": [],
   "source": [
    "breeds[breeds.p1_conf <= 0.5].shape[0]"
   ]
  },
  {
   "cell_type": "code",
   "execution_count": null,
   "metadata": {
    "collapsed": true
   },
   "outputs": [],
   "source": [
    "tweet_scraped.info()"
   ]
  },
  {
   "cell_type": "code",
   "execution_count": null,
   "metadata": {
    "collapsed": true
   },
   "outputs": [],
   "source": [
    "tweet_scraped"
   ]
  },
  {
   "cell_type": "markdown",
   "metadata": {},
   "source": [
    "### dogs\n",
    "- `retweeted_status_id` - Some are retweets\n",
    "- `timestamp` doesn't have week day\n",
    "- May have bad info in stage columns (see project instructions) \n",
    "    - check for floof\n",
    "- stage [doggo, pupper, etc.] is in four columns\n",
    "    - come pictures contain more than one so cannot condense to categorical value\n",
    "- `name` - some pictures have more than one dog, but there is only one name in the column\n",
    "- tweet_id is number - should be string\n",
    "- `rating_numerator` - some very high values (> 20)\n",
    "    - 1776 on July 4th American Independence Day\n",
    "    - 420 is a snoop dog pun\n",
    "    - 666 is a bad dog pun\n",
    "    - 182 is a blink 182 reference\n",
    "    - large numbers are sometimes sum scores of groups\n",
    "    - Anything above 20 occurs only once of close to once\n",
    "    - can use to see if puns have response?\n",
    "- `rating_numerator` - 23 values != 10\n",
    "    - often a sum for multiple dogs in a picture\n",
    "- `timestamp` should be in datetime\n",
    "- undescriptive column names (need code book)"
   ]
  },
  {
   "cell_type": "markdown",
   "metadata": {},
   "source": [
    "### breeds\n",
    "\n",
    "1. missing values (~300)compared to dogs\n",
    "- `tweet_id` in int not str\n",
    "2. `img_num` - some have more than one image \n",
    "3. `p1` - names are objects not categories\n",
    "- `p1` - some are uppercase, some are lowercase\n",
    "4. `p1_conf` - some probabilites are low (836 < 0.5)\n",
    "5. `p1_dog` - some entries are not dogs (confirmed by looking at pictures)\n",
    "    - EDA: Do people like non-dog posts more/less than dog posts?\n",
    "- `p1_dog` - not boolean\n",
    "    - cannot make boolean without coercing NaN value to True\n",
    "6. Note: all tweet_ids are in dogs table and there are no duplicate values"
   ]
  },
  {
   "cell_type": "markdown",
   "metadata": {
    "collapsed": true
   },
   "source": [
    "### tweet_scraped\n",
    "\n",
    "1. Some entries don't have photos (want only entries with photos)\n",
    "-  missing some data where tweet_ids were invalid \n",
    "- `time` not in datetime format\n",
    "- `tweet_id` int not str"
   ]
  },
  {
   "cell_type": "markdown",
   "metadata": {},
   "source": [
    "   ## Tidiness\n",
    "- tweet_metrics should be part of dogs table\n",
    "- breeds `p1` should be a part of dogs table (but maybe at a confidence threshold?)\n",
    "- more than one observational type per table"
   ]
  },
  {
   "cell_type": "markdown",
   "metadata": {},
   "source": [
    "# Clean"
   ]
  },
  {
   "cell_type": "code",
   "execution_count": 51,
   "metadata": {
    "collapsed": true
   },
   "outputs": [],
   "source": [
    "dogs_clean = dogs.copy()\n",
    "breeds_clean = breeds.copy()\n",
    "tweet_scraped_clean = tweet_scraped.copy()"
   ]
  },
  {
   "cell_type": "markdown",
   "metadata": {},
   "source": [
    "### **tweet_scraped should be part of dogs table**\n",
    "\n",
    "Define: Merge tables on tweet_id"
   ]
  },
  {
   "cell_type": "code",
   "execution_count": 52,
   "metadata": {
    "collapsed": true
   },
   "outputs": [],
   "source": [
    "dogs_clean = pd.merge(dogs_clean, tweet_scraped_clean, on = 'tweet_id', how='left')"
   ]
  },
  {
   "cell_type": "code",
   "execution_count": 53,
   "metadata": {},
   "outputs": [
    {
     "name": "stdout",
     "output_type": "stream",
     "text": [
      "<class 'pandas.core.frame.DataFrame'>\n",
      "Int64Index: 2356 entries, 0 to 2355\n",
      "Data columns (total 21 columns):\n",
      "tweet_id                      2356 non-null int64\n",
      "in_reply_to_status_id         78 non-null float64\n",
      "in_reply_to_user_id           78 non-null float64\n",
      "timestamp                     2356 non-null object\n",
      "source                        2356 non-null object\n",
      "text                          2356 non-null object\n",
      "retweeted_status_id           181 non-null float64\n",
      "retweeted_status_user_id      181 non-null float64\n",
      "retweeted_status_timestamp    181 non-null object\n",
      "expanded_urls                 2297 non-null object\n",
      "rating_numerator              2356 non-null int64\n",
      "rating_denominator            2356 non-null int64\n",
      "name                          2356 non-null object\n",
      "doggo                         2356 non-null object\n",
      "floofer                       2356 non-null object\n",
      "pupper                        2356 non-null object\n",
      "puppo                         2356 non-null object\n",
      "favorite_count                2351 non-null float64\n",
      "media_type                    2072 non-null object\n",
      "retweet_count                 2351 non-null float64\n",
      "time                          2351 non-null object\n",
      "dtypes: float64(6), int64(3), object(12)\n",
      "memory usage: 404.9+ KB\n"
     ]
    }
   ],
   "source": [
    "#test\n",
    "dogs_clean.info()"
   ]
  },
  {
   "cell_type": "markdown",
   "metadata": {},
   "source": [
    "### breeds `p1` and `p1_dog` should be a part of dogs table (but maybe at a confidence threshold?)\n",
    "\n",
    "**Define:** Merge breeds p1 into dogs_clean if p1_conf > 0.5"
   ]
  },
  {
   "cell_type": "code",
   "execution_count": 54,
   "metadata": {
    "collapsed": true
   },
   "outputs": [],
   "source": [
    "dogs_clean = pd.merge(dogs_clean, breeds[breeds.p1_conf > 0.5][['tweet_id','p1', 'p1_dog']], on = 'tweet_id', how = 'left')"
   ]
  },
  {
   "cell_type": "code",
   "execution_count": 55,
   "metadata": {},
   "outputs": [
    {
     "name": "stdout",
     "output_type": "stream",
     "text": [
      "<class 'pandas.core.frame.DataFrame'>\n",
      "Int64Index: 2356 entries, 0 to 2355\n",
      "Data columns (total 23 columns):\n",
      "tweet_id                      2356 non-null int64\n",
      "in_reply_to_status_id         78 non-null float64\n",
      "in_reply_to_user_id           78 non-null float64\n",
      "timestamp                     2356 non-null object\n",
      "source                        2356 non-null object\n",
      "text                          2356 non-null object\n",
      "retweeted_status_id           181 non-null float64\n",
      "retweeted_status_user_id      181 non-null float64\n",
      "retweeted_status_timestamp    181 non-null object\n",
      "expanded_urls                 2297 non-null object\n",
      "rating_numerator              2356 non-null int64\n",
      "rating_denominator            2356 non-null int64\n",
      "name                          2356 non-null object\n",
      "doggo                         2356 non-null object\n",
      "floofer                       2356 non-null object\n",
      "pupper                        2356 non-null object\n",
      "puppo                         2356 non-null object\n",
      "favorite_count                2351 non-null float64\n",
      "media_type                    2072 non-null object\n",
      "retweet_count                 2351 non-null float64\n",
      "time                          2351 non-null object\n",
      "p1                            1239 non-null object\n",
      "p1_dog                        1239 non-null object\n",
      "dtypes: float64(6), int64(3), object(14)\n",
      "memory usage: 441.8+ KB\n"
     ]
    }
   ],
   "source": [
    "#test\n",
    "dogs_clean.info()"
   ]
  },
  {
   "cell_type": "markdown",
   "metadata": {},
   "source": [
    " ### Some entries don't have photos (want only entries with photos)\n",
    " \n",
    " **Define:** Drop rows without photos (media_type == NaN)"
   ]
  },
  {
   "cell_type": "code",
   "execution_count": 56,
   "metadata": {
    "collapsed": true
   },
   "outputs": [],
   "source": [
    "dogs_clean = dogs_clean[dogs_clean.media_type.notnull()]"
   ]
  },
  {
   "cell_type": "code",
   "execution_count": 57,
   "metadata": {},
   "outputs": [
    {
     "name": "stdout",
     "output_type": "stream",
     "text": [
      "<class 'pandas.core.frame.DataFrame'>\n",
      "Int64Index: 2072 entries, 0 to 2355\n",
      "Data columns (total 23 columns):\n",
      "tweet_id                      2072 non-null int64\n",
      "in_reply_to_status_id         23 non-null float64\n",
      "in_reply_to_user_id           23 non-null float64\n",
      "timestamp                     2072 non-null object\n",
      "source                        2072 non-null object\n",
      "text                          2072 non-null object\n",
      "retweeted_status_id           78 non-null float64\n",
      "retweeted_status_user_id      78 non-null float64\n",
      "retweeted_status_timestamp    78 non-null object\n",
      "expanded_urls                 2072 non-null object\n",
      "rating_numerator              2072 non-null int64\n",
      "rating_denominator            2072 non-null int64\n",
      "name                          2072 non-null object\n",
      "doggo                         2072 non-null object\n",
      "floofer                       2072 non-null object\n",
      "pupper                        2072 non-null object\n",
      "puppo                         2072 non-null object\n",
      "favorite_count                2072 non-null float64\n",
      "media_type                    2072 non-null object\n",
      "retweet_count                 2072 non-null float64\n",
      "time                          2072 non-null object\n",
      "p1                            1237 non-null object\n",
      "p1_dog                        1237 non-null object\n",
      "dtypes: float64(6), int64(3), object(14)\n",
      "memory usage: 388.5+ KB\n"
     ]
    }
   ],
   "source": [
    "#test\n",
    "dogs_clean.info()"
   ]
  },
  {
   "cell_type": "markdown",
   "metadata": {},
   "source": [
    "### `retweeted_status_id` - Some are retweets (don't want retweets)\n",
    "\n",
    "**Define:** Drop rows that are tweets and drop retweeted columns"
   ]
  },
  {
   "cell_type": "code",
   "execution_count": 58,
   "metadata": {
    "collapsed": true
   },
   "outputs": [],
   "source": [
    "dogs_clean = dogs_clean[dogs_clean.retweeted_status_id.isnull()]"
   ]
  },
  {
   "cell_type": "code",
   "execution_count": 59,
   "metadata": {
    "collapsed": true
   },
   "outputs": [],
   "source": [
    "dogs_clean.drop(['retweeted_status_id','retweeted_status_user_id','retweeted_status_timestamp'], axis = 1, inplace = True)"
   ]
  },
  {
   "cell_type": "code",
   "execution_count": 60,
   "metadata": {},
   "outputs": [
    {
     "name": "stdout",
     "output_type": "stream",
     "text": [
      "<class 'pandas.core.frame.DataFrame'>\n",
      "Int64Index: 1994 entries, 0 to 2355\n",
      "Data columns (total 20 columns):\n",
      "tweet_id                 1994 non-null int64\n",
      "in_reply_to_status_id    23 non-null float64\n",
      "in_reply_to_user_id      23 non-null float64\n",
      "timestamp                1994 non-null object\n",
      "source                   1994 non-null object\n",
      "text                     1994 non-null object\n",
      "expanded_urls            1994 non-null object\n",
      "rating_numerator         1994 non-null int64\n",
      "rating_denominator       1994 non-null int64\n",
      "name                     1994 non-null object\n",
      "doggo                    1994 non-null object\n",
      "floofer                  1994 non-null object\n",
      "pupper                   1994 non-null object\n",
      "puppo                    1994 non-null object\n",
      "favorite_count           1994 non-null float64\n",
      "media_type               1994 non-null object\n",
      "retweet_count            1994 non-null float64\n",
      "time                     1994 non-null object\n",
      "p1                       1186 non-null object\n",
      "p1_dog                   1186 non-null object\n",
      "dtypes: float64(4), int64(3), object(13)\n",
      "memory usage: 327.1+ KB\n"
     ]
    }
   ],
   "source": [
    "dogs_clean.info()"
   ]
  },
  {
   "cell_type": "markdown",
   "metadata": {},
   "source": [
    "### `timestamp` doesn't have week day\n",
    "\n",
    "**Define:** Drop in favor of time downloaded from twitter api"
   ]
  },
  {
   "cell_type": "code",
   "execution_count": 61,
   "metadata": {
    "collapsed": true
   },
   "outputs": [],
   "source": [
    "dogs_clean.drop(['timestamp'], axis = 1, inplace = True)"
   ]
  },
  {
   "cell_type": "code",
   "execution_count": 62,
   "metadata": {},
   "outputs": [
    {
     "name": "stdout",
     "output_type": "stream",
     "text": [
      "<class 'pandas.core.frame.DataFrame'>\n",
      "Int64Index: 1994 entries, 0 to 2355\n",
      "Data columns (total 19 columns):\n",
      "tweet_id                 1994 non-null int64\n",
      "in_reply_to_status_id    23 non-null float64\n",
      "in_reply_to_user_id      23 non-null float64\n",
      "source                   1994 non-null object\n",
      "text                     1994 non-null object\n",
      "expanded_urls            1994 non-null object\n",
      "rating_numerator         1994 non-null int64\n",
      "rating_denominator       1994 non-null int64\n",
      "name                     1994 non-null object\n",
      "doggo                    1994 non-null object\n",
      "floofer                  1994 non-null object\n",
      "pupper                   1994 non-null object\n",
      "puppo                    1994 non-null object\n",
      "favorite_count           1994 non-null float64\n",
      "media_type               1994 non-null object\n",
      "retweet_count            1994 non-null float64\n",
      "time                     1994 non-null object\n",
      "p1                       1186 non-null object\n",
      "p1_dog                   1186 non-null object\n",
      "dtypes: float64(4), int64(3), object(12)\n",
      "memory usage: 311.6+ KB\n"
     ]
    }
   ],
   "source": [
    "#test\n",
    "dogs_clean.info()"
   ]
  },
  {
   "cell_type": "markdown",
   "metadata": {},
   "source": [
    "### May have bad info in stage columns (see project instructions) \n",
    "\n",
    "**Define:**Get new data from text using regex"
   ]
  },
  {
   "cell_type": "code",
   "execution_count": 63,
   "metadata": {
    "collapsed": true
   },
   "outputs": [],
   "source": [
    "dogs_clean.doggo = dogs_clean.text.str.contains('[Dd]oggo')\n",
    "#this is a special regex based on the weratedogs classification provided\n",
    "dogs_clean.floofer = dogs_clean.text.str.contains('[Ff]loof')\n",
    "dogs_clean.pupper = dogs_clean.text.str.contains('[Pp]upper')\n",
    "dogs_clean.puppo = dogs_clean.text.str.contains('[Pp]uppo')"
   ]
  },
  {
   "cell_type": "code",
   "execution_count": 64,
   "metadata": {},
   "outputs": [
    {
     "name": "stdout",
     "output_type": "stream",
     "text": [
      "doggo:  80\n",
      "floofer:  37\n",
      "pupper:  235\n",
      "puppo:  29\n",
      "<class 'pandas.core.frame.DataFrame'>\n",
      "Int64Index: 1994 entries, 0 to 2355\n",
      "Data columns (total 19 columns):\n",
      "tweet_id                 1994 non-null int64\n",
      "in_reply_to_status_id    23 non-null float64\n",
      "in_reply_to_user_id      23 non-null float64\n",
      "source                   1994 non-null object\n",
      "text                     1994 non-null object\n",
      "expanded_urls            1994 non-null object\n",
      "rating_numerator         1994 non-null int64\n",
      "rating_denominator       1994 non-null int64\n",
      "name                     1994 non-null object\n",
      "doggo                    1994 non-null bool\n",
      "floofer                  1994 non-null bool\n",
      "pupper                   1994 non-null bool\n",
      "puppo                    1994 non-null bool\n",
      "favorite_count           1994 non-null float64\n",
      "media_type               1994 non-null object\n",
      "retweet_count            1994 non-null float64\n",
      "time                     1994 non-null object\n",
      "p1                       1186 non-null object\n",
      "p1_dog                   1186 non-null object\n",
      "dtypes: bool(4), float64(4), int64(3), object(8)\n",
      "memory usage: 257.0+ KB\n"
     ]
    }
   ],
   "source": [
    "#test\n",
    "for stage in ['doggo', 'floofer','pupper','puppo']:\n",
    "    print(stage + \": \", dogs_clean[stage].sum())\n",
    "\n",
    "dogs_clean.info()"
   ]
  },
  {
   "cell_type": "markdown",
   "metadata": {},
   "source": [
    "### `time` not in datetime format\n",
    "\n",
    "**Define:** Change format"
   ]
  },
  {
   "cell_type": "code",
   "execution_count": 65,
   "metadata": {
    "collapsed": true
   },
   "outputs": [],
   "source": [
    "#this is a work around because to_datetime does not support %z utc offset\n",
    "def drop_utc(time):\n",
    "    time_list = time.split(' ')\n",
    "    new_time = time_list[0:4]\n",
    "    new_time.append(time_list[-1])\n",
    "    return ' '.join(new_time)\n",
    "\n",
    "dogs_clean.time = dogs_clean.time.apply(drop_utc)"
   ]
  },
  {
   "cell_type": "code",
   "execution_count": 66,
   "metadata": {
    "collapsed": true
   },
   "outputs": [],
   "source": [
    "dogs_clean.time = pd.to_datetime(dogs_clean.time, format = \"%a %b %d %H:%M:%S %Y\", utc=True)"
   ]
  },
  {
   "cell_type": "code",
   "execution_count": 75,
   "metadata": {},
   "outputs": [
    {
     "name": "stdout",
     "output_type": "stream",
     "text": [
      "<class 'pandas.core.frame.DataFrame'>\n",
      "Int64Index: 1994 entries, 0 to 2355\n",
      "Data columns (total 19 columns):\n",
      "tweet_id                 1994 non-null int64\n",
      "in_reply_to_status_id    23 non-null float64\n",
      "in_reply_to_user_id      23 non-null float64\n",
      "source                   1994 non-null object\n",
      "text                     1994 non-null object\n",
      "expanded_urls            1994 non-null object\n",
      "rating_numerator         1994 non-null int64\n",
      "rating_denominator       1994 non-null int64\n",
      "name                     1994 non-null object\n",
      "doggo                    1994 non-null bool\n",
      "floofer                  1994 non-null bool\n",
      "pupper                   1994 non-null bool\n",
      "puppo                    1994 non-null bool\n",
      "favorite_count           1994 non-null float64\n",
      "media_type               1994 non-null object\n",
      "retweet_count            1994 non-null float64\n",
      "time                     1994 non-null datetime64[ns]\n",
      "p1                       1186 non-null object\n",
      "p1_dog                   1186 non-null object\n",
      "dtypes: bool(4), datetime64[ns](1), float64(4), int64(3), object(7)\n",
      "memory usage: 257.0+ KB\n"
     ]
    }
   ],
   "source": [
    "#test\n",
    "dogs_clean.info()"
   ]
  },
  {
   "cell_type": "code",
   "execution_count": 25,
   "metadata": {},
   "outputs": [
    {
     "data": {
      "text/plain": [
       "0   2017-08-01 16:23:56\n",
       "1   2017-08-01 00:17:27\n",
       "2   2017-07-31 00:18:03\n",
       "Name: time, dtype: datetime64[ns]"
      ]
     },
     "execution_count": 25,
     "metadata": {},
     "output_type": "execute_result"
    }
   ],
   "source": [
    "dogs_clean.time.head(3)"
   ]
  },
  {
   "cell_type": "markdown",
   "metadata": {},
   "source": [
    "### `tweet_id` int not str\n",
    "**Define:** Change format"
   ]
  },
  {
   "cell_type": "code",
   "execution_count": 26,
   "metadata": {
    "collapsed": true
   },
   "outputs": [],
   "source": [
    "dogs_clean.tweet_id = dogs_clean.tweet_id.astype(str)"
   ]
  },
  {
   "cell_type": "code",
   "execution_count": 27,
   "metadata": {},
   "outputs": [
    {
     "name": "stdout",
     "output_type": "stream",
     "text": [
      "<class 'pandas.core.frame.DataFrame'>\n",
      "Int64Index: 1994 entries, 0 to 2355\n",
      "Data columns (total 19 columns):\n",
      "tweet_id                 1994 non-null object\n",
      "in_reply_to_status_id    23 non-null float64\n",
      "in_reply_to_user_id      23 non-null float64\n",
      "source                   1994 non-null object\n",
      "text                     1994 non-null object\n",
      "expanded_urls            1994 non-null object\n",
      "rating_numerator         1994 non-null int64\n",
      "rating_denominator       1994 non-null int64\n",
      "name                     1994 non-null object\n",
      "doggo                    1994 non-null bool\n",
      "floofer                  1994 non-null bool\n",
      "pupper                   1994 non-null bool\n",
      "puppo                    1994 non-null bool\n",
      "favorite_count           1994 non-null float64\n",
      "media_type               1994 non-null object\n",
      "retweet_count            1994 non-null float64\n",
      "time                     1994 non-null datetime64[ns]\n",
      "p1                       1186 non-null object\n",
      "p1_dog                   1186 non-null object\n",
      "dtypes: bool(4), datetime64[ns](1), float64(4), int64(2), object(8)\n",
      "memory usage: 257.0+ KB\n"
     ]
    }
   ],
   "source": [
    "#test\n",
    "dogs_clean.info()"
   ]
  },
  {
   "cell_type": "markdown",
   "metadata": {},
   "source": [
    "### `p1` - names are objects not categories\n",
    "**Define:** Change format"
   ]
  },
  {
   "cell_type": "code",
   "execution_count": 28,
   "metadata": {
    "collapsed": true
   },
   "outputs": [],
   "source": [
    "dogs_clean.p1 = dogs_clean.p1.astype('category')"
   ]
  },
  {
   "cell_type": "code",
   "execution_count": 29,
   "metadata": {},
   "outputs": [
    {
     "name": "stdout",
     "output_type": "stream",
     "text": [
      "<class 'pandas.core.frame.DataFrame'>\n",
      "Int64Index: 1994 entries, 0 to 2355\n",
      "Data columns (total 19 columns):\n",
      "tweet_id                 1994 non-null object\n",
      "in_reply_to_status_id    23 non-null float64\n",
      "in_reply_to_user_id      23 non-null float64\n",
      "source                   1994 non-null object\n",
      "text                     1994 non-null object\n",
      "expanded_urls            1994 non-null object\n",
      "rating_numerator         1994 non-null int64\n",
      "rating_denominator       1994 non-null int64\n",
      "name                     1994 non-null object\n",
      "doggo                    1994 non-null bool\n",
      "floofer                  1994 non-null bool\n",
      "pupper                   1994 non-null bool\n",
      "puppo                    1994 non-null bool\n",
      "favorite_count           1994 non-null float64\n",
      "media_type               1994 non-null object\n",
      "retweet_count            1994 non-null float64\n",
      "time                     1994 non-null datetime64[ns]\n",
      "p1                       1186 non-null category\n",
      "p1_dog                   1186 non-null object\n",
      "dtypes: bool(4), category(1), datetime64[ns](1), float64(4), int64(2), object(7)\n",
      "memory usage: 257.3+ KB\n"
     ]
    }
   ],
   "source": [
    "dogs_clean.info()"
   ]
  },
  {
   "cell_type": "markdown",
   "metadata": {},
   "source": [
    "## Assess 2.0\n",
    "\n",
    "1. Mediatype has only one value ('photo')\n",
    "2. more than one observational type per table"
   ]
  },
  {
   "cell_type": "code",
   "execution_count": 30,
   "metadata": {},
   "outputs": [
    {
     "data": {
      "text/html": [
       "<div>\n",
       "<style>\n",
       "    .dataframe thead tr:only-child th {\n",
       "        text-align: right;\n",
       "    }\n",
       "\n",
       "    .dataframe thead th {\n",
       "        text-align: left;\n",
       "    }\n",
       "\n",
       "    .dataframe tbody tr th {\n",
       "        vertical-align: top;\n",
       "    }\n",
       "</style>\n",
       "<table border=\"1\" class=\"dataframe\">\n",
       "  <thead>\n",
       "    <tr style=\"text-align: right;\">\n",
       "      <th></th>\n",
       "      <th>tweet_id</th>\n",
       "      <th>in_reply_to_status_id</th>\n",
       "      <th>in_reply_to_user_id</th>\n",
       "      <th>source</th>\n",
       "      <th>text</th>\n",
       "      <th>expanded_urls</th>\n",
       "      <th>rating_numerator</th>\n",
       "      <th>rating_denominator</th>\n",
       "      <th>name</th>\n",
       "      <th>doggo</th>\n",
       "      <th>floofer</th>\n",
       "      <th>pupper</th>\n",
       "      <th>puppo</th>\n",
       "      <th>favorite_count</th>\n",
       "      <th>media_type</th>\n",
       "      <th>retweet_count</th>\n",
       "      <th>time</th>\n",
       "      <th>p1</th>\n",
       "      <th>p1_dog</th>\n",
       "    </tr>\n",
       "  </thead>\n",
       "  <tbody>\n",
       "    <tr>\n",
       "      <th>0</th>\n",
       "      <td>892420643555336193</td>\n",
       "      <td>NaN</td>\n",
       "      <td>NaN</td>\n",
       "      <td>&lt;a href=\"http://twitter.com/download/iphone\" r...</td>\n",
       "      <td>This is Phineas. He's a mystical boy. Only eve...</td>\n",
       "      <td>https://twitter.com/dog_rates/status/892420643...</td>\n",
       "      <td>13</td>\n",
       "      <td>10</td>\n",
       "      <td>Phineas</td>\n",
       "      <td>False</td>\n",
       "      <td>False</td>\n",
       "      <td>False</td>\n",
       "      <td>False</td>\n",
       "      <td>39407.0</td>\n",
       "      <td>photo</td>\n",
       "      <td>8806.0</td>\n",
       "      <td>2017-08-01 16:23:56</td>\n",
       "      <td>NaN</td>\n",
       "      <td>NaN</td>\n",
       "    </tr>\n",
       "    <tr>\n",
       "      <th>1</th>\n",
       "      <td>892177421306343426</td>\n",
       "      <td>NaN</td>\n",
       "      <td>NaN</td>\n",
       "      <td>&lt;a href=\"http://twitter.com/download/iphone\" r...</td>\n",
       "      <td>This is Tilly. She's just checking pup on you....</td>\n",
       "      <td>https://twitter.com/dog_rates/status/892177421...</td>\n",
       "      <td>13</td>\n",
       "      <td>10</td>\n",
       "      <td>Tilly</td>\n",
       "      <td>False</td>\n",
       "      <td>False</td>\n",
       "      <td>False</td>\n",
       "      <td>False</td>\n",
       "      <td>33729.0</td>\n",
       "      <td>photo</td>\n",
       "      <td>6456.0</td>\n",
       "      <td>2017-08-01 00:17:27</td>\n",
       "      <td>NaN</td>\n",
       "      <td>NaN</td>\n",
       "    </tr>\n",
       "    <tr>\n",
       "      <th>2</th>\n",
       "      <td>891815181378084864</td>\n",
       "      <td>NaN</td>\n",
       "      <td>NaN</td>\n",
       "      <td>&lt;a href=\"http://twitter.com/download/iphone\" r...</td>\n",
       "      <td>This is Archie. He is a rare Norwegian Pouncin...</td>\n",
       "      <td>https://twitter.com/dog_rates/status/891815181...</td>\n",
       "      <td>12</td>\n",
       "      <td>10</td>\n",
       "      <td>Archie</td>\n",
       "      <td>False</td>\n",
       "      <td>False</td>\n",
       "      <td>False</td>\n",
       "      <td>False</td>\n",
       "      <td>25396.0</td>\n",
       "      <td>photo</td>\n",
       "      <td>4280.0</td>\n",
       "      <td>2017-07-31 00:18:03</td>\n",
       "      <td>Chihuahua</td>\n",
       "      <td>True</td>\n",
       "    </tr>\n",
       "    <tr>\n",
       "      <th>3</th>\n",
       "      <td>891689557279858688</td>\n",
       "      <td>NaN</td>\n",
       "      <td>NaN</td>\n",
       "      <td>&lt;a href=\"http://twitter.com/download/iphone\" r...</td>\n",
       "      <td>This is Darla. She commenced a snooze mid meal...</td>\n",
       "      <td>https://twitter.com/dog_rates/status/891689557...</td>\n",
       "      <td>13</td>\n",
       "      <td>10</td>\n",
       "      <td>Darla</td>\n",
       "      <td>False</td>\n",
       "      <td>False</td>\n",
       "      <td>False</td>\n",
       "      <td>False</td>\n",
       "      <td>42762.0</td>\n",
       "      <td>photo</td>\n",
       "      <td>8890.0</td>\n",
       "      <td>2017-07-30 15:58:51</td>\n",
       "      <td>NaN</td>\n",
       "      <td>NaN</td>\n",
       "    </tr>\n",
       "    <tr>\n",
       "      <th>4</th>\n",
       "      <td>891327558926688256</td>\n",
       "      <td>NaN</td>\n",
       "      <td>NaN</td>\n",
       "      <td>&lt;a href=\"http://twitter.com/download/iphone\" r...</td>\n",
       "      <td>This is Franklin. He would like you to stop ca...</td>\n",
       "      <td>https://twitter.com/dog_rates/status/891327558...</td>\n",
       "      <td>12</td>\n",
       "      <td>10</td>\n",
       "      <td>Franklin</td>\n",
       "      <td>False</td>\n",
       "      <td>False</td>\n",
       "      <td>False</td>\n",
       "      <td>False</td>\n",
       "      <td>40923.0</td>\n",
       "      <td>photo</td>\n",
       "      <td>9684.0</td>\n",
       "      <td>2017-07-29 16:00:24</td>\n",
       "      <td>basset</td>\n",
       "      <td>True</td>\n",
       "    </tr>\n",
       "  </tbody>\n",
       "</table>\n",
       "</div>"
      ],
      "text/plain": [
       "             tweet_id  in_reply_to_status_id  in_reply_to_user_id  \\\n",
       "0  892420643555336193                    NaN                  NaN   \n",
       "1  892177421306343426                    NaN                  NaN   \n",
       "2  891815181378084864                    NaN                  NaN   \n",
       "3  891689557279858688                    NaN                  NaN   \n",
       "4  891327558926688256                    NaN                  NaN   \n",
       "\n",
       "                                              source  \\\n",
       "0  <a href=\"http://twitter.com/download/iphone\" r...   \n",
       "1  <a href=\"http://twitter.com/download/iphone\" r...   \n",
       "2  <a href=\"http://twitter.com/download/iphone\" r...   \n",
       "3  <a href=\"http://twitter.com/download/iphone\" r...   \n",
       "4  <a href=\"http://twitter.com/download/iphone\" r...   \n",
       "\n",
       "                                                text  \\\n",
       "0  This is Phineas. He's a mystical boy. Only eve...   \n",
       "1  This is Tilly. She's just checking pup on you....   \n",
       "2  This is Archie. He is a rare Norwegian Pouncin...   \n",
       "3  This is Darla. She commenced a snooze mid meal...   \n",
       "4  This is Franklin. He would like you to stop ca...   \n",
       "\n",
       "                                       expanded_urls  rating_numerator  \\\n",
       "0  https://twitter.com/dog_rates/status/892420643...                13   \n",
       "1  https://twitter.com/dog_rates/status/892177421...                13   \n",
       "2  https://twitter.com/dog_rates/status/891815181...                12   \n",
       "3  https://twitter.com/dog_rates/status/891689557...                13   \n",
       "4  https://twitter.com/dog_rates/status/891327558...                12   \n",
       "\n",
       "   rating_denominator      name  doggo  floofer  pupper  puppo  \\\n",
       "0                  10   Phineas  False    False   False  False   \n",
       "1                  10     Tilly  False    False   False  False   \n",
       "2                  10    Archie  False    False   False  False   \n",
       "3                  10     Darla  False    False   False  False   \n",
       "4                  10  Franklin  False    False   False  False   \n",
       "\n",
       "   favorite_count media_type  retweet_count                time         p1  \\\n",
       "0         39407.0      photo         8806.0 2017-08-01 16:23:56        NaN   \n",
       "1         33729.0      photo         6456.0 2017-08-01 00:17:27        NaN   \n",
       "2         25396.0      photo         4280.0 2017-07-31 00:18:03  Chihuahua   \n",
       "3         42762.0      photo         8890.0 2017-07-30 15:58:51        NaN   \n",
       "4         40923.0      photo         9684.0 2017-07-29 16:00:24     basset   \n",
       "\n",
       "  p1_dog  \n",
       "0    NaN  \n",
       "1    NaN  \n",
       "2   True  \n",
       "3    NaN  \n",
       "4   True  "
      ]
     },
     "execution_count": 30,
     "metadata": {},
     "output_type": "execute_result"
    }
   ],
   "source": [
    "dogs_clean.head()"
   ]
  },
  {
   "cell_type": "code",
   "execution_count": 31,
   "metadata": {},
   "outputs": [
    {
     "data": {
      "text/plain": [
       "0"
      ]
     },
     "execution_count": 31,
     "metadata": {},
     "output_type": "execute_result"
    }
   ],
   "source": [
    "dogs_clean.duplicated().sum()"
   ]
  },
  {
   "cell_type": "markdown",
   "metadata": {},
   "source": [
    "### media_type has only one value ('photo')\n",
    "\n",
    "**Define:** Drop media_type"
   ]
  },
  {
   "cell_type": "code",
   "execution_count": 32,
   "metadata": {
    "collapsed": true
   },
   "outputs": [],
   "source": [
    "dogs_clean.drop(['media_type'], axis = 1, inplace = True)"
   ]
  },
  {
   "cell_type": "code",
   "execution_count": 33,
   "metadata": {},
   "outputs": [
    {
     "data": {
      "text/plain": [
       "Index(['tweet_id', 'in_reply_to_status_id', 'in_reply_to_user_id', 'source',\n",
       "       'text', 'expanded_urls', 'rating_numerator', 'rating_denominator',\n",
       "       'name', 'doggo', 'floofer', 'pupper', 'puppo', 'favorite_count',\n",
       "       'retweet_count', 'time', 'p1', 'p1_dog'],\n",
       "      dtype='object')"
      ]
     },
     "execution_count": 33,
     "metadata": {},
     "output_type": "execute_result"
    }
   ],
   "source": [
    "#test\n",
    "dogs_clean.columns"
   ]
  },
  {
   "cell_type": "markdown",
   "metadata": {},
   "source": [
    "### More than one observational type per table\n",
    "\n",
    "**Define:** \n",
    "1. make boolean column is_reply to preserve data \n",
    "- Put Urls in another table "
   ]
  },
  {
   "cell_type": "code",
   "execution_count": 34,
   "metadata": {
    "collapsed": true
   },
   "outputs": [],
   "source": [
    "#1\n",
    "dogs_clean['is_reply'] = dogs_clean.in_reply_to_status_id.notnull()"
   ]
  },
  {
   "cell_type": "code",
   "execution_count": 35,
   "metadata": {},
   "outputs": [
    {
     "data": {
      "text/plain": [
       "False    1971\n",
       "True       23\n",
       "Name: is_reply, dtype: int64"
      ]
     },
     "execution_count": 35,
     "metadata": {},
     "output_type": "execute_result"
    }
   ],
   "source": [
    "#test 1\n",
    "dogs_clean.is_reply.value_counts()"
   ]
  },
  {
   "cell_type": "code",
   "execution_count": 36,
   "metadata": {
    "collapsed": true
   },
   "outputs": [],
   "source": [
    "#2\n",
    "url_cols = ['in_reply_to_status_id','in_reply_to_user_id','source','expanded_urls']\n",
    "tweet_info = dogs_clean[url_cols + ['tweet_id']]\n",
    "dogs_clean = dogs_clean.drop(url_cols, axis = 1)"
   ]
  },
  {
   "cell_type": "code",
   "execution_count": 37,
   "metadata": {},
   "outputs": [
    {
     "name": "stdout",
     "output_type": "stream",
     "text": [
      "<class 'pandas.core.frame.DataFrame'>\n",
      "Int64Index: 1994 entries, 0 to 2355\n",
      "Data columns (total 5 columns):\n",
      "in_reply_to_status_id    23 non-null float64\n",
      "in_reply_to_user_id      23 non-null float64\n",
      "source                   1994 non-null object\n",
      "expanded_urls            1994 non-null object\n",
      "tweet_id                 1994 non-null object\n",
      "dtypes: float64(2), object(3)\n",
      "memory usage: 93.5+ KB\n"
     ]
    }
   ],
   "source": [
    "#test 2\n",
    "tweet_info.info()"
   ]
  },
  {
   "cell_type": "code",
   "execution_count": 38,
   "metadata": {},
   "outputs": [
    {
     "name": "stdout",
     "output_type": "stream",
     "text": [
      "<class 'pandas.core.frame.DataFrame'>\n",
      "Int64Index: 1994 entries, 0 to 2355\n",
      "Data columns (total 15 columns):\n",
      "tweet_id              1994 non-null object\n",
      "text                  1994 non-null object\n",
      "rating_numerator      1994 non-null int64\n",
      "rating_denominator    1994 non-null int64\n",
      "name                  1994 non-null object\n",
      "doggo                 1994 non-null bool\n",
      "floofer               1994 non-null bool\n",
      "pupper                1994 non-null bool\n",
      "puppo                 1994 non-null bool\n",
      "favorite_count        1994 non-null float64\n",
      "retweet_count         1994 non-null float64\n",
      "time                  1994 non-null datetime64[ns]\n",
      "p1                    1186 non-null category\n",
      "p1_dog                1186 non-null object\n",
      "is_reply              1994 non-null bool\n",
      "dtypes: bool(5), category(1), datetime64[ns](1), float64(2), int64(2), object(4)\n",
      "memory usage: 181.3+ KB\n"
     ]
    }
   ],
   "source": [
    "dogs_clean.info()"
   ]
  },
  {
   "cell_type": "markdown",
   "metadata": {},
   "source": [
    "### undescriptive column names\n",
    "**Define:** rename {'name': 'dog_name', 'doggo':'has_doggo', 'floofer':'has_floofer', 'pupper':'has_pupper', 'puppo':'has_puppo', 'p1':'breed', 'p1_dog','is_dog'}"
   ]
  },
  {
   "cell_type": "code",
   "execution_count": 39,
   "metadata": {
    "collapsed": true
   },
   "outputs": [],
   "source": [
    "dogs_clean = dogs_clean.rename(columns = {'doggo':'has_doggo', 'floofer':'has_floofer', 'pupper':'has_pupper', 'puppo':'has_puppo', 'p1':'breed', 'p1_dog':'is_dog'})\n"
   ]
  },
  {
   "cell_type": "code",
   "execution_count": 40,
   "metadata": {},
   "outputs": [
    {
     "data": {
      "text/plain": [
       "['tweet_id',\n",
       " 'text',\n",
       " 'rating_numerator',\n",
       " 'rating_denominator',\n",
       " 'name',\n",
       " 'has_doggo',\n",
       " 'has_floofer',\n",
       " 'has_pupper',\n",
       " 'has_puppo',\n",
       " 'favorite_count',\n",
       " 'retweet_count',\n",
       " 'time',\n",
       " 'breed',\n",
       " 'is_dog',\n",
       " 'is_reply']"
      ]
     },
     "execution_count": 40,
     "metadata": {},
     "output_type": "execute_result"
    }
   ],
   "source": [
    "#test\n",
    "list(dogs_clean)"
   ]
  },
  {
   "cell_type": "code",
   "execution_count": 41,
   "metadata": {
    "collapsed": true
   },
   "outputs": [],
   "source": [
    "dogs_clean.to_csv(\"twitter_archive_master.csv\")"
   ]
  },
  {
   "cell_type": "markdown",
   "metadata": {},
   "source": [
    "# Analyze"
   ]
  },
  {
   "cell_type": "code",
   "execution_count": 1,
   "metadata": {
    "collapsed": true
   },
   "outputs": [],
   "source": [
    "import matplotlib.pyplot as plt\n",
    "import seaborn as sns\n",
    "import scipy.stats as stats"
   ]
  },
  {
   "cell_type": "code",
   "execution_count": 4,
   "metadata": {},
   "outputs": [],
   "source": [
    "tweets = pd.read_csv(\"twitter_archive_master.csv\")"
   ]
  },
  {
   "cell_type": "code",
   "execution_count": 5,
   "metadata": {},
   "outputs": [
    {
     "data": {
      "text/html": [
       "<div>\n",
       "<style>\n",
       "    .dataframe thead tr:only-child th {\n",
       "        text-align: right;\n",
       "    }\n",
       "\n",
       "    .dataframe thead th {\n",
       "        text-align: left;\n",
       "    }\n",
       "\n",
       "    .dataframe tbody tr th {\n",
       "        vertical-align: top;\n",
       "    }\n",
       "</style>\n",
       "<table border=\"1\" class=\"dataframe\">\n",
       "  <thead>\n",
       "    <tr style=\"text-align: right;\">\n",
       "      <th></th>\n",
       "      <th>Unnamed: 0</th>\n",
       "      <th>tweet_id</th>\n",
       "      <th>text</th>\n",
       "      <th>rating_numerator</th>\n",
       "      <th>rating_denominator</th>\n",
       "      <th>name</th>\n",
       "      <th>has_doggo</th>\n",
       "      <th>has_floofer</th>\n",
       "      <th>has_pupper</th>\n",
       "      <th>has_puppo</th>\n",
       "      <th>favorite_count</th>\n",
       "      <th>retweet_count</th>\n",
       "      <th>time</th>\n",
       "      <th>breed</th>\n",
       "      <th>is_dog</th>\n",
       "      <th>is_reply</th>\n",
       "    </tr>\n",
       "  </thead>\n",
       "  <tbody>\n",
       "    <tr>\n",
       "      <th>0</th>\n",
       "      <td>0</td>\n",
       "      <td>892420643555336193</td>\n",
       "      <td>This is Phineas. He's a mystical boy. Only eve...</td>\n",
       "      <td>13</td>\n",
       "      <td>10</td>\n",
       "      <td>Phineas</td>\n",
       "      <td>False</td>\n",
       "      <td>False</td>\n",
       "      <td>False</td>\n",
       "      <td>False</td>\n",
       "      <td>39407.0</td>\n",
       "      <td>8806.0</td>\n",
       "      <td>2017-08-01 16:23:56</td>\n",
       "      <td>NaN</td>\n",
       "      <td>NaN</td>\n",
       "      <td>False</td>\n",
       "    </tr>\n",
       "    <tr>\n",
       "      <th>1</th>\n",
       "      <td>1</td>\n",
       "      <td>892177421306343426</td>\n",
       "      <td>This is Tilly. She's just checking pup on you....</td>\n",
       "      <td>13</td>\n",
       "      <td>10</td>\n",
       "      <td>Tilly</td>\n",
       "      <td>False</td>\n",
       "      <td>False</td>\n",
       "      <td>False</td>\n",
       "      <td>False</td>\n",
       "      <td>33729.0</td>\n",
       "      <td>6456.0</td>\n",
       "      <td>2017-08-01 00:17:27</td>\n",
       "      <td>NaN</td>\n",
       "      <td>NaN</td>\n",
       "      <td>False</td>\n",
       "    </tr>\n",
       "    <tr>\n",
       "      <th>2</th>\n",
       "      <td>2</td>\n",
       "      <td>891815181378084864</td>\n",
       "      <td>This is Archie. He is a rare Norwegian Pouncin...</td>\n",
       "      <td>12</td>\n",
       "      <td>10</td>\n",
       "      <td>Archie</td>\n",
       "      <td>False</td>\n",
       "      <td>False</td>\n",
       "      <td>False</td>\n",
       "      <td>False</td>\n",
       "      <td>25396.0</td>\n",
       "      <td>4280.0</td>\n",
       "      <td>2017-07-31 00:18:03</td>\n",
       "      <td>Chihuahua</td>\n",
       "      <td>True</td>\n",
       "      <td>False</td>\n",
       "    </tr>\n",
       "    <tr>\n",
       "      <th>3</th>\n",
       "      <td>3</td>\n",
       "      <td>891689557279858688</td>\n",
       "      <td>This is Darla. She commenced a snooze mid meal...</td>\n",
       "      <td>13</td>\n",
       "      <td>10</td>\n",
       "      <td>Darla</td>\n",
       "      <td>False</td>\n",
       "      <td>False</td>\n",
       "      <td>False</td>\n",
       "      <td>False</td>\n",
       "      <td>42762.0</td>\n",
       "      <td>8890.0</td>\n",
       "      <td>2017-07-30 15:58:51</td>\n",
       "      <td>NaN</td>\n",
       "      <td>NaN</td>\n",
       "      <td>False</td>\n",
       "    </tr>\n",
       "    <tr>\n",
       "      <th>4</th>\n",
       "      <td>4</td>\n",
       "      <td>891327558926688256</td>\n",
       "      <td>This is Franklin. He would like you to stop ca...</td>\n",
       "      <td>12</td>\n",
       "      <td>10</td>\n",
       "      <td>Franklin</td>\n",
       "      <td>False</td>\n",
       "      <td>False</td>\n",
       "      <td>False</td>\n",
       "      <td>False</td>\n",
       "      <td>40923.0</td>\n",
       "      <td>9684.0</td>\n",
       "      <td>2017-07-29 16:00:24</td>\n",
       "      <td>basset</td>\n",
       "      <td>True</td>\n",
       "      <td>False</td>\n",
       "    </tr>\n",
       "  </tbody>\n",
       "</table>\n",
       "</div>"
      ],
      "text/plain": [
       "   Unnamed: 0            tweet_id  \\\n",
       "0           0  892420643555336193   \n",
       "1           1  892177421306343426   \n",
       "2           2  891815181378084864   \n",
       "3           3  891689557279858688   \n",
       "4           4  891327558926688256   \n",
       "\n",
       "                                                text  rating_numerator  \\\n",
       "0  This is Phineas. He's a mystical boy. Only eve...                13   \n",
       "1  This is Tilly. She's just checking pup on you....                13   \n",
       "2  This is Archie. He is a rare Norwegian Pouncin...                12   \n",
       "3  This is Darla. She commenced a snooze mid meal...                13   \n",
       "4  This is Franklin. He would like you to stop ca...                12   \n",
       "\n",
       "   rating_denominator      name  has_doggo  has_floofer  has_pupper  \\\n",
       "0                  10   Phineas      False        False       False   \n",
       "1                  10     Tilly      False        False       False   \n",
       "2                  10    Archie      False        False       False   \n",
       "3                  10     Darla      False        False       False   \n",
       "4                  10  Franklin      False        False       False   \n",
       "\n",
       "   has_puppo  favorite_count  retweet_count                 time      breed  \\\n",
       "0      False         39407.0         8806.0  2017-08-01 16:23:56        NaN   \n",
       "1      False         33729.0         6456.0  2017-08-01 00:17:27        NaN   \n",
       "2      False         25396.0         4280.0  2017-07-31 00:18:03  Chihuahua   \n",
       "3      False         42762.0         8890.0  2017-07-30 15:58:51        NaN   \n",
       "4      False         40923.0         9684.0  2017-07-29 16:00:24     basset   \n",
       "\n",
       "  is_dog  is_reply  \n",
       "0    NaN     False  \n",
       "1    NaN     False  \n",
       "2   True     False  \n",
       "3    NaN     False  \n",
       "4   True     False  "
      ]
     },
     "execution_count": 5,
     "metadata": {},
     "output_type": "execute_result"
    }
   ],
   "source": [
    "tweets.head()"
   ]
  },
  {
   "cell_type": "code",
   "execution_count": 6,
   "metadata": {},
   "outputs": [
    {
     "name": "stdout",
     "output_type": "stream",
     "text": [
      "<class 'pandas.core.frame.DataFrame'>\n",
      "RangeIndex: 1994 entries, 0 to 1993\n",
      "Data columns (total 16 columns):\n",
      "Unnamed: 0            1994 non-null int64\n",
      "tweet_id              1994 non-null int64\n",
      "text                  1994 non-null object\n",
      "rating_numerator      1994 non-null int64\n",
      "rating_denominator    1994 non-null int64\n",
      "name                  1994 non-null object\n",
      "has_doggo             1994 non-null bool\n",
      "has_floofer           1994 non-null bool\n",
      "has_pupper            1994 non-null bool\n",
      "has_puppo             1994 non-null bool\n",
      "favorite_count        1994 non-null float64\n",
      "retweet_count         1994 non-null float64\n",
      "time                  1994 non-null object\n",
      "breed                 1186 non-null object\n",
      "is_dog                1186 non-null object\n",
      "is_reply              1994 non-null bool\n",
      "dtypes: bool(5), float64(2), int64(4), object(5)\n",
      "memory usage: 181.2+ KB\n"
     ]
    }
   ],
   "source": [
    "tweets.info()"
   ]
  },
  {
   "cell_type": "code",
   "execution_count": 7,
   "metadata": {},
   "outputs": [
    {
     "data": {
      "image/png": "[encoded data removed]",
      "text/plain": [
       "<matplotlib.figure.Figure at 0x110a8d978>"
      ]
     },
     "metadata": {},
     "output_type": "display_data"
    }
   ],
   "source": [
    "sns.heatmap(tweets.corr())\n",
    "plt.show()"
   ]
  },
  {
   "cell_type": "markdown",
   "metadata": {},
   "source": [
    "Interestingly only real correlation seems to be between favorite and retweet counts, which is intuitive. Need to dive deeper into boolean values"
   ]
  },
  {
   "cell_type": "code",
   "execution_count": 9,
   "metadata": {},
   "outputs": [
    {
     "data": {
      "image/png": "[encoded data removed]",
      "text/plain": [
       "<matplotlib.figure.Figure at 0x110ca3cf8>"
      ]
     },
     "metadata": {},
     "output_type": "display_data"
    }
   ],
   "source": [
    "tweets[['retweet_count','favorite_count']].plot.hist(subplots = True, bins = 50, sharex=False , title = 'Unmodified Fav and Retweet Counts')\n",
    "plt.show()"
   ]
  },
  {
   "cell_type": "markdown",
   "metadata": {},
   "source": [
    "Both retweet and favorite are long tailed, left skew."
   ]
  },
  {
   "cell_type": "code",
   "execution_count": 11,
   "metadata": {
    "collapsed": true
   },
   "outputs": [],
   "source": [
    "tweets['favorite_count_log'] = np.log(tweets.favorite_count)\n",
    "tweets['retweet_count_log'] = np.log(tweets.retweet_count)\n",
    "quantile_95 = tweets[(tweets.retweet_count < tweets.retweet_count.quantile(0.95)) \n",
    "                     & (tweets.favorite_count < tweets.favorite_count.quantile(0.95))]"
   ]
  },
  {
   "cell_type": "code",
   "execution_count": 12,
   "metadata": {},
   "outputs": [
    {
     "data": {
      "image/png": "[encoded data removed]",
      "text/plain": [
       "<matplotlib.figure.Figure at 0x11099f438>"
      ]
     },
     "metadata": {},
     "output_type": "display_data"
    },
    {
     "data": {
      "text/html": [
       "<div>\n",
       "<style>\n",
       "    .dataframe thead tr:only-child th {\n",
       "        text-align: right;\n",
       "    }\n",
       "\n",
       "    .dataframe thead th {\n",
       "        text-align: left;\n",
       "    }\n",
       "\n",
       "    .dataframe tbody tr th {\n",
       "        vertical-align: top;\n",
       "    }\n",
       "</style>\n",
       "<table border=\"1\" class=\"dataframe\">\n",
       "  <thead>\n",
       "    <tr style=\"text-align: right;\">\n",
       "      <th></th>\n",
       "      <th>retweet_count</th>\n",
       "      <th>favorite_count</th>\n",
       "    </tr>\n",
       "  </thead>\n",
       "  <tbody>\n",
       "    <tr>\n",
       "      <th>count</th>\n",
       "      <td>1873.000000</td>\n",
       "      <td>1873.000000</td>\n",
       "    </tr>\n",
       "    <tr>\n",
       "      <th>mean</th>\n",
       "      <td>1898.539242</td>\n",
       "      <td>6631.169781</td>\n",
       "    </tr>\n",
       "    <tr>\n",
       "      <th>std</th>\n",
       "      <td>1805.080257</td>\n",
       "      <td>6869.150533</td>\n",
       "    </tr>\n",
       "    <tr>\n",
       "      <th>min</th>\n",
       "      <td>14.000000</td>\n",
       "      <td>81.000000</td>\n",
       "    </tr>\n",
       "    <tr>\n",
       "      <th>25%</th>\n",
       "      <td>597.000000</td>\n",
       "      <td>1798.000000</td>\n",
       "    </tr>\n",
       "    <tr>\n",
       "      <th>50%</th>\n",
       "      <td>1250.000000</td>\n",
       "      <td>3740.000000</td>\n",
       "    </tr>\n",
       "    <tr>\n",
       "      <th>75%</th>\n",
       "      <td>2650.000000</td>\n",
       "      <td>9383.000000</td>\n",
       "    </tr>\n",
       "    <tr>\n",
       "      <th>max</th>\n",
       "      <td>8957.000000</td>\n",
       "      <td>31057.000000</td>\n",
       "    </tr>\n",
       "  </tbody>\n",
       "</table>\n",
       "</div>"
      ],
      "text/plain": [
       "       retweet_count  favorite_count\n",
       "count    1873.000000     1873.000000\n",
       "mean     1898.539242     6631.169781\n",
       "std      1805.080257     6869.150533\n",
       "min        14.000000       81.000000\n",
       "25%       597.000000     1798.000000\n",
       "50%      1250.000000     3740.000000\n",
       "75%      2650.000000     9383.000000\n",
       "max      8957.000000    31057.000000"
      ]
     },
     "execution_count": 12,
     "metadata": {},
     "output_type": "execute_result"
    }
   ],
   "source": [
    "quantile_95[['retweet_count','favorite_count']].plot.hist(subplots = True, bins = 100, sharex=False , title = 'Bottom 0.95% and Log', logx = True )\n",
    "plt.show()\n",
    "\n",
    "quantile_95[['retweet_count','favorite_count']].describe()"
   ]
  },
  {
   "cell_type": "code",
   "execution_count": 13,
   "metadata": {},
   "outputs": [
    {
     "data": {
      "image/png": "[encoded data removed]",
      "text/plain": [
       "<matplotlib.figure.Figure at 0x110b11e10>"
      ]
     },
     "metadata": {},
     "output_type": "display_data"
    },
    {
     "name": "stdout",
     "output_type": "stream",
     "text": [
      "(0.90198879920294683, 0.0)\n"
     ]
    },
    {
     "data": {
      "image/png": "[encoded data removed]",
      "text/plain": [
       "<matplotlib.figure.Figure at 0x110e255f8>"
      ]
     },
     "metadata": {},
     "output_type": "display_data"
    },
    {
     "name": "stdout",
     "output_type": "stream",
     "text": [
      "(0.96314671458237966, 0.0)\n"
     ]
    }
   ],
   "source": [
    "quantile_95[['retweet_count', 'favorite_count']].plot(\n",
    "    x = 'retweet_count', y = 'favorite_count', kind = \"scatter\")\n",
    "plt.show()\n",
    "print(stats.pearsonr(quantile_95.retweet_count, quantile_95.favorite_count))\n",
    "\n",
    "#log version\n",
    "quantile_95[['retweet_count_log', 'favorite_count_log']].plot(\n",
    "    x = 'retweet_count_log', y = 'favorite_count_log', kind = \"scatter\")\n",
    "plt.show()\n",
    "print(stats.pearsonr(quantile_95.retweet_count_log, quantile_95.favorite_count_log))"
   ]
  },
  {
   "cell_type": "markdown",
   "metadata": {},
   "source": [
    "Strong correlation between sharing and liking behavior that becomes less robust at high values (heteroscedastic), but can be log normalized."
   ]
  },
  {
   "cell_type": "code",
   "execution_count": 15,
   "metadata": {},
   "outputs": [
    {
     "name": "stdout",
     "output_type": "stream",
     "text": [
      "has_pupper median favs: 3167.5 n = 224\n",
      "has_floofer median favs: 6512.0 n = 36\n",
      "has_doggo median favs: 10069.0 n = 68\n",
      "has_puppo median favs: 11353.0 n = 23\n",
      "Total Median 3740.0\n"
     ]
    },
    {
     "data": {
      "image/png": "[encoded data removed]",
      "text/plain": [
       "<matplotlib.figure.Figure at 0x110b6d2b0>"
      ]
     },
     "metadata": {},
     "output_type": "display_data"
    }
   ],
   "source": [
    "stage_list = ['has_pupper','has_floofer','has_doggo','has_puppo']\n",
    "for stage in stage_list:\n",
    "    has_x_favorites = quantile_95[(quantile_95[stage] == True)]['favorite_count']\n",
    "    sns.distplot(has_x_favorites, hist = False, label = stage)\n",
    "    median = has_x_favorites.median()\n",
    "    print(stage,'median favs:', median, 'n =', len(has_x_favorites))\n",
    "\n",
    "print('Total Median', quantile_95.favorite_count.median())    \n",
    "plt.axvline(x = quantile_95.favorite_count.median(), alpha = 0.5, linestyle = 'dashed', label = 'median')\n",
    "plt.legend(loc = 'upper right')\n",
    "plt.show()"
   ]
  },
  {
   "cell_type": "markdown",
   "metadata": {},
   "source": [
    "## Insight 1:\n",
    "People seem to like puppos and doggos the most. But these are also those with the least about of data. Puppers tend to be smaller, doggos bigger, and puppos in between. Is this evidence for novelty increasing likes? Is there a preference for more adult or adolescent dogs? (Keep in mind small N) (include recomended experiment)"
   ]
  },
  {
   "cell_type": "code",
   "execution_count": 16,
   "metadata": {
    "collapsed": true
   },
   "outputs": [],
   "source": [
    "breed_groups = quantile_95.groupby('breed')\n",
    "breed_stats = breed_groups['favorite_count'].agg(['median', 'count'])"
   ]
  },
  {
   "cell_type": "code",
   "execution_count": 17,
   "metadata": {},
   "outputs": [
    {
     "data": {
      "image/png": "[encoded data removed]",
      "text/plain": [
       "<matplotlib.figure.Figure at 0x113d155c0>"
      ]
     },
     "metadata": {},
     "output_type": "display_data"
    },
    {
     "name": "stdout",
     "output_type": "stream",
     "text": [
      "count    235.000000\n",
      "mean       4.714894\n",
      "std       10.125262\n",
      "min        1.000000\n",
      "25%        1.000000\n",
      "50%        2.000000\n",
      "75%        4.000000\n",
      "max      104.000000\n",
      "Name: count, dtype: float64\n"
     ]
    }
   ],
   "source": [
    "breed_stats['count'].plot.hist(bins = 100, logx = True)\n",
    "plt.show()\n",
    "print(breed_stats['count'].describe())"
   ]
  },
  {
   "cell_type": "markdown",
   "metadata": {},
   "source": [
    "Strong right skew"
   ]
  },
  {
   "cell_type": "code",
   "execution_count": 18,
   "metadata": {},
   "outputs": [
    {
     "data": {
      "image/png": "[encoded data removed]",
      "text/plain": [
       "<matplotlib.figure.Figure at 0x113df8898>"
      ]
     },
     "metadata": {},
     "output_type": "display_data"
    },
    {
     "name": "stdout",
     "output_type": "stream",
     "text": [
      "Correlation for bottom 90% of counts: (-0.015706483535603031, 0.82312979836195455)\n"
     ]
    }
   ],
   "source": [
    "breed_stats_90 = breed_stats[breed_stats['count'] < breed_stats['count'].quantile(0.90)]\n",
    "breed_stats.plot(x='count',y='median', kind =\"scatter\", alpha = 0.5)\n",
    "plt.show()\n",
    "print(\"Correlation for bottom 90% of counts:\", stats.pearsonr(breed_stats_90['count'], breed_stats_90['median']))"
   ]
  },
  {
   "cell_type": "markdown",
   "metadata": {},
   "source": [
    "There is high variety of breeds. Novelty does not play a roll, but could use more data for higher counts (better classification)."
   ]
  },
  {
   "cell_type": "code",
   "execution_count": 19,
   "metadata": {},
   "outputs": [
    {
     "name": "stdout",
     "output_type": "stream",
     "text": [
      "Dog Post Median Likes 4693.0\n",
      "n = 874\n",
      "Non-dog Posts Median Likes 3564.5\n",
      "n = 234\n"
     ]
    }
   ],
   "source": [
    "#preference for dogs vs. non-dog posts\n",
    "print('Dog Post Median Likes', quantile_95[quantile_95.is_dog == True]['favorite_count'].median())\n",
    "print('n =', quantile_95[quantile_95.is_dog == True]['favorite_count'].count())\n",
    "print('Non-dog Posts Median Likes', quantile_95[quantile_95.is_dog == False]['favorite_count'].median())\n",
    "print('n =', quantile_95[quantile_95.is_dog == False]['favorite_count'].count())"
   ]
  },
  {
   "cell_type": "code",
   "execution_count": 20,
   "metadata": {},
   "outputs": [
    {
     "data": {
      "text/plain": [
       "Ttest_indResult(statistic=2.4517332546644708, pvalue=0.014370801268983465)"
      ]
     },
     "execution_count": 20,
     "metadata": {},
     "output_type": "execute_result"
    }
   ],
   "source": [
    "#Testing H0: uDog Favs - uNon-Dog Favs = 0, H1: uDog Favs - uNon-Dog Favs > 0\n",
    "stats.ttest_ind(quantile_95[quantile_95.is_dog == True]['favorite_count_log'],\n",
    "                quantile_95[quantile_95.is_dog == False]['favorite_count_log'])"
   ]
  },
  {
   "cell_type": "markdown",
   "metadata": {},
   "source": [
    "People like dog posts substantially more than non-dog posts"
   ]
  },
  {
   "cell_type": "code",
   "execution_count": null,
   "metadata": {
    "collapsed": true
   },
   "outputs": [],
   "source": [
    "#need to add comments and clean up last two code block before quit\n"
   ]
  },
  {
   "cell_type": "code",
   "execution_count": 102,
   "metadata": {},
   "outputs": [
    {
     "name": "stderr",
     "output_type": "stream",
     "text": [
      "/Users/ericandresen/anaconda/lib/python3.6/site-packages/ipykernel_launcher.py:1: SettingWithCopyWarning: \n",
      "A value is trying to be set on a copy of a slice from a DataFrame.\n",
      "Try using .loc[row_indexer,col_indexer] = value instead\n",
      "\n",
      "See the caveats in the documentation: http://pandas.pydata.org/pandas-docs/stable/indexing.html#indexing-view-versus-copy\n",
      "  \"\"\"Entry point for launching an IPython kernel.\n"
     ]
    },
    {
     "data": {
      "image/png": "[encoded data removed]",
      "text/plain": [
       "<matplotlib.figure.Figure at 0x111169438>"
      ]
     },
     "metadata": {},
     "output_type": "display_data"
    },
    {
     "data": {
      "text/plain": [
       "(0.23911031536902269, 9.2114916573711224e-26)"
      ]
     },
     "execution_count": 102,
     "metadata": {},
     "output_type": "execute_result"
    }
   ],
   "source": [
    "quantile_95['text_length'] = quantile_95.text.str.len()\n",
    "\n",
    "quantile_95.plot.scatter(x = 'text_length', y = 'favorite_count',alpha = 0.2)\n",
    "plt.show()\n",
    "\n",
    "stats.pearsonr(quantile_95.favorite_count, quantile_95.text_length)"
   ]
  },
  {
   "cell_type": "markdown",
   "metadata": {},
   "source": [
    "## Insight 2:\n",
    "There is a weak correlation between text length and favorite count. There is strong clustering around 140 characters, which makes sense given that is the limit prescribed by twitter. Very low character posts tend have low favorite counts (best to be above 100 char).\n",
    "\n",
    "Note: >140 character entries are due to character encodings (e.g. & as `&amp;`)"
   ]
  },
  {
   "cell_type": "code",
   "execution_count": 92,
   "metadata": {},
   "outputs": [
    {
     "name": "stderr",
     "output_type": "stream",
     "text": [
      "/Users/ericandresen/anaconda/lib/python3.6/site-packages/pandas/core/generic.py:2999: SettingWithCopyWarning: \n",
      "A value is trying to be set on a copy of a slice from a DataFrame.\n",
      "Try using .loc[row_indexer,col_indexer] = value instead\n",
      "\n",
      "See the caveats in the documentation: http://pandas.pydata.org/pandas-docs/stable/indexing.html#indexing-view-versus-copy\n",
      "  self[name] = value\n"
     ]
    },
    {
     "data": {
      "image/png": "[encoded data removed]",
      "text/plain": [
       "<matplotlib.figure.Figure at 0x1142449b0>"
      ]
     },
     "metadata": {},
     "output_type": "display_data"
    },
    {
     "data": {
      "image/png": "[encoded data removed]",
      "text/plain": [
       "<matplotlib.figure.Figure at 0x113c42860>"
      ]
     },
     "metadata": {},
     "output_type": "display_data"
    }
   ],
   "source": [
    "#Does time of day affect retweets/likes\n",
    "quantile_95.time = pd.to_datetime(quantile_95.time)\n",
    "tweets_by_hour = quantile_95.groupby(quantile_95.time.dt.hour)\n",
    "favorites_by_hour = tweets_by_hour['favorite_count'].median()\n",
    "retweets_by_hour = tweets_by_hour['retweet_count'].median()\n",
    "retweets_by_hour.sort_index().plot(kind = \"bar\", title = 'Median Retweets')\n",
    "plt.show()\n",
    "favorites_by_hour.sort_index().plot(kind = \"bar\", title = 'Median Favorites')\n",
    "plt.show()\n"
   ]
  },
  {
   "cell_type": "markdown",
   "metadata": {},
   "source": [
    "This seems to be missing data (between 6 and 12), need to verify that data wasn't dropped"
   ]
  },
  {
   "cell_type": "code",
   "execution_count": 90,
   "metadata": {},
   "outputs": [
    {
     "data": {
      "text/plain": [
       "0     291\n",
       "1     327\n",
       "2     254\n",
       "3     199\n",
       "4     112\n",
       "5      30\n",
       "6       5\n",
       "12      2\n",
       "13      5\n",
       "14      9\n",
       "15     99\n",
       "16    214\n",
       "17    188\n",
       "18    123\n",
       "19    106\n",
       "20     94\n",
       "21     87\n",
       "22     83\n",
       "23    123\n",
       "Name: time, dtype: int64"
      ]
     },
     "execution_count": 90,
     "metadata": {},
     "output_type": "execute_result"
    }
   ],
   "source": [
    "pd.to_datetime(tweet_scraped.time).dt.hour.value_counts().sort_index()"
   ]
  },
  {
   "cell_type": "markdown",
   "metadata": {},
   "source": [
    "## Insight 3:\n",
    "Either there is missing data, or more likely this corresponds to times in the United States. 6 UTC is 1 AM EST, where WeRateDogs is located and it may be that the channel does not post at night. There seems to be a periodic cycle of likes by time of day. There is a strong peak at 15 - 17 UTC (10AM to 12PM EST) and another smaller bump at 22 - 01 UTC (5PM - 8pm EST). However, there appears to be the beginning of another peak around 6 UTC (1AM EST) when the data ends, suggesting that if tweets are stopping at this time WeRateDogs is missing a window of engagement possibly in Europe where it would be early afternoon."
   ]
  },
  {
   "cell_type": "code",
   "execution_count": 107,
   "metadata": {},
   "outputs": [
    {
     "name": "stdout",
     "output_type": "stream",
     "text": [
      "is_reply: 4297.782608695652 n = 23\n",
      "not_reply: 6660.179459459459 n = 1850\n"
     ]
    }
   ],
   "source": [
    "#Do Replies do Better?\n",
    "is_reply = quantile_95[quantile_95.is_reply == True]\n",
    "not_reply = quantile_95[quantile_95.is_reply == False]\n",
    "\n",
    "print('is_reply:', is_reply.favorite_count.mean(), 'n =', len(is_reply))\n",
    "print('not_reply:', not_reply.favorite_count.mean(), 'n =', len(not_reply))"
   ]
  },
  {
   "cell_type": "code",
   "execution_count": 106,
   "metadata": {},
   "outputs": [
    {
     "data": {
      "text/plain": [
       "Ttest_indResult(statistic=-1.6399348341460698, pvalue=0.10118681848014303)"
      ]
     },
     "execution_count": 106,
     "metadata": {},
     "output_type": "execute_result"
    }
   ],
   "source": [
    "#test H0: u is_reply Favs - u not_reply favs = 0\n",
    "#     H1: u is_reply favs - u not_reply favs < 0\n",
    "stats.ttest_ind(is_reply.favorite_count, not_reply.favorite_count)"
   ]
  },
  {
   "cell_type": "markdown",
   "metadata": {},
   "source": [
    "## Insight 4\n",
    "Reply posts might actually be *less* popular than regular posts, but there needs to be more data on reply posts to be certain. (Suggest experiment)"
   ]
  }
 ],
 "metadata": {
  "kernelspec": {
   "display_name": "Python 3",
   "language": "python",
   "name": "python3"
  },
  "language_info": {
   "codemirror_mode": {
    "name": "ipython",
    "version": 3
   },
   "file_extension": ".py",
   "mimetype": "text/x-python",
   "name": "python",
   "nbconvert_exporter": "python",
   "pygments_lexer": "ipython3",
   "version": "3.6.1"
  }
 },
 "nbformat": 4,
 "nbformat_minor": 2
}
