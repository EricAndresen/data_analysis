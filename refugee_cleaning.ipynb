{
 "cells": [
  {
   "cell_type": "markdown",
   "metadata": {},
   "source": [
    "## Where People Seek Asylum\n",
    "\n",
    "This is some basic cleaning for a small Tableau Visualization I did on [where people seek asylum](https://public.tableau.com/profile/eric.andresen#!/vizhome/WherePeopleSeekAsylum/Dashboard1).\n",
    "The comes from the UNHCR's [monthly counts](http://popstats.unhcr.org/en/asylum_seekers_monthly) that are aggregations of national statistics."
   ]
  },
  {
   "cell_type": "code",
   "execution_count": 29,
   "metadata": {
    "collapsed": true
   },
   "outputs": [],
   "source": [
    "import pandas as pd"
   ]
  },
  {
   "cell_type": "code",
   "execution_count": 37,
   "metadata": {},
   "outputs": [
    {
     "name": "stderr",
     "output_type": "stream",
     "text": [
      "/Users/ericandresen/anaconda/lib/python3.6/site-packages/IPython/core/interactiveshell.py:2717: DtypeWarning: Columns (2,4) have mixed types. Specify dtype option on import or set low_memory=False.\n",
      "  interactivity=interactivity, compiler=compiler, result=result)\n"
     ]
    }
   ],
   "source": [
    "seekers = pd.read_csv(\"unhcr_popstats_export_asylum_seekers_monthly_all_data.csv\", header = None)"
   ]
  },
  {
   "cell_type": "code",
   "execution_count": 38,
   "metadata": {},
   "outputs": [
    {
     "data": {
      "text/html": [
       "<div>\n",
       "<style>\n",
       "    .dataframe thead tr:only-child th {\n",
       "        text-align: right;\n",
       "    }\n",
       "\n",
       "    .dataframe thead th {\n",
       "        text-align: left;\n",
       "    }\n",
       "\n",
       "    .dataframe tbody tr th {\n",
       "        vertical-align: top;\n",
       "    }\n",
       "</style>\n",
       "<table border=\"1\" class=\"dataframe\">\n",
       "  <thead>\n",
       "    <tr style=\"text-align: right;\">\n",
       "      <th></th>\n",
       "      <th>0</th>\n",
       "      <th>1</th>\n",
       "      <th>2</th>\n",
       "      <th>3</th>\n",
       "      <th>4</th>\n",
       "    </tr>\n",
       "  </thead>\n",
       "  <tbody>\n",
       "    <tr>\n",
       "      <th>0</th>\n",
       "      <td>Extracted from the UNHCR Population Statistics...</td>\n",
       "      <td>United Nations High Commissioner for Refugees</td>\n",
       "      <td>NaN</td>\n",
       "      <td>NaN</td>\n",
       "      <td>NaN</td>\n",
       "    </tr>\n",
       "    <tr>\n",
       "      <th>1</th>\n",
       "      <td>Date extracted: 2015-11-26 04:22:38 +01:00</td>\n",
       "      <td>NaN</td>\n",
       "      <td>NaN</td>\n",
       "      <td>NaN</td>\n",
       "      <td>NaN</td>\n",
       "    </tr>\n",
       "    <tr>\n",
       "      <th>2</th>\n",
       "      <td>NaN</td>\n",
       "      <td>NaN</td>\n",
       "      <td>NaN</td>\n",
       "      <td>NaN</td>\n",
       "      <td>NaN</td>\n",
       "    </tr>\n",
       "    <tr>\n",
       "      <th>3</th>\n",
       "      <td>Country / territory of asylum/residence</td>\n",
       "      <td>Origin</td>\n",
       "      <td>Year</td>\n",
       "      <td>Month</td>\n",
       "      <td>Value</td>\n",
       "    </tr>\n",
       "    <tr>\n",
       "      <th>4</th>\n",
       "      <td>Australia</td>\n",
       "      <td>Afghanistan</td>\n",
       "      <td>1999</td>\n",
       "      <td>January</td>\n",
       "      <td>8</td>\n",
       "    </tr>\n",
       "  </tbody>\n",
       "</table>\n",
       "</div>"
      ],
      "text/plain": [
       "                                                   0  \\\n",
       "0  Extracted from the UNHCR Population Statistics...   \n",
       "1         Date extracted: 2015-11-26 04:22:38 +01:00   \n",
       "2                                                NaN   \n",
       "3            Country / territory of asylum/residence   \n",
       "4                                          Australia   \n",
       "\n",
       "                                               1     2        3      4  \n",
       "0  United Nations High Commissioner for Refugees   NaN      NaN    NaN  \n",
       "1                                            NaN   NaN      NaN    NaN  \n",
       "2                                            NaN   NaN      NaN    NaN  \n",
       "3                                         Origin  Year    Month  Value  \n",
       "4                                    Afghanistan  1999  January      8  "
      ]
     },
     "execution_count": 38,
     "metadata": {},
     "output_type": "execute_result"
    }
   ],
   "source": [
    "seekers.head()"
   ]
  },
  {
   "cell_type": "code",
   "execution_count": 39,
   "metadata": {
    "collapsed": true
   },
   "outputs": [],
   "source": [
    "#make headers correct\n",
    "seekers.columns = list(seekers.iloc[3,:])"
   ]
  },
  {
   "cell_type": "code",
   "execution_count": 42,
   "metadata": {},
   "outputs": [
    {
     "data": {
      "text/html": [
       "<div>\n",
       "<style>\n",
       "    .dataframe thead tr:only-child th {\n",
       "        text-align: right;\n",
       "    }\n",
       "\n",
       "    .dataframe thead th {\n",
       "        text-align: left;\n",
       "    }\n",
       "\n",
       "    .dataframe tbody tr th {\n",
       "        vertical-align: top;\n",
       "    }\n",
       "</style>\n",
       "<table border=\"1\" class=\"dataframe\">\n",
       "  <thead>\n",
       "    <tr style=\"text-align: right;\">\n",
       "      <th></th>\n",
       "      <th>Destination</th>\n",
       "      <th>Origin</th>\n",
       "      <th>Year</th>\n",
       "      <th>Month</th>\n",
       "      <th>Value</th>\n",
       "    </tr>\n",
       "  </thead>\n",
       "  <tbody>\n",
       "    <tr>\n",
       "      <th>0</th>\n",
       "      <td>Australia</td>\n",
       "      <td>Afghanistan</td>\n",
       "      <td>1999</td>\n",
       "      <td>January</td>\n",
       "      <td>8</td>\n",
       "    </tr>\n",
       "    <tr>\n",
       "      <th>1</th>\n",
       "      <td>Australia</td>\n",
       "      <td>Afghanistan</td>\n",
       "      <td>1999</td>\n",
       "      <td>February</td>\n",
       "      <td>10</td>\n",
       "    </tr>\n",
       "    <tr>\n",
       "      <th>2</th>\n",
       "      <td>Australia</td>\n",
       "      <td>Afghanistan</td>\n",
       "      <td>1999</td>\n",
       "      <td>March</td>\n",
       "      <td>25</td>\n",
       "    </tr>\n",
       "    <tr>\n",
       "      <th>3</th>\n",
       "      <td>Australia</td>\n",
       "      <td>Afghanistan</td>\n",
       "      <td>1999</td>\n",
       "      <td>April</td>\n",
       "      <td>25</td>\n",
       "    </tr>\n",
       "    <tr>\n",
       "      <th>4</th>\n",
       "      <td>Australia</td>\n",
       "      <td>Afghanistan</td>\n",
       "      <td>1999</td>\n",
       "      <td>May</td>\n",
       "      <td>7</td>\n",
       "    </tr>\n",
       "  </tbody>\n",
       "</table>\n",
       "</div>"
      ],
      "text/plain": [
       "  Destination       Origin  Year     Month Value\n",
       "0   Australia  Afghanistan  1999   January     8\n",
       "1   Australia  Afghanistan  1999  February    10\n",
       "2   Australia  Afghanistan  1999     March    25\n",
       "3   Australia  Afghanistan  1999     April    25\n",
       "4   Australia  Afghanistan  1999       May     7"
      ]
     },
     "execution_count": 42,
     "metadata": {},
     "output_type": "execute_result"
    }
   ],
   "source": [
    "seekers.head()"
   ]
  },
  {
   "cell_type": "code",
   "execution_count": 41,
   "metadata": {
    "collapsed": true
   },
   "outputs": [],
   "source": [
    "#drop rows that aren't data, make columns more understandable, and reset index\n",
    "seekers = seekers.iloc[4:]\n",
    "seekers.rename(columns = {'Country / territory of asylum/residence': 'Destination'}, inplace = True)\n",
    "seekers.reset_index(drop = True, inplace = True)"
   ]
  },
  {
   "cell_type": "code",
   "execution_count": 43,
   "metadata": {
    "collapsed": true
   },
   "outputs": [],
   "source": [
    "#make date column that Tableau can parse\n",
    "month_num = {\n",
    "    'January' : 1,\n",
    "    'February': 2,\n",
    "    'March' : 3,\n",
    "    'April' : 4,\n",
    "    'May' : 5,\n",
    "    'June' : 6,\n",
    "    'July' : 7,\n",
    "    'August' : 8,\n",
    "    'September' : 9,\n",
    "    'October' : 10,\n",
    "    'November' : 11,\n",
    "    'December' : 12,\n",
    "}\n",
    "\n",
    "seekers['Date'] = seekers.Month.map(month_num).astype(str) + '/1/' + seekers.Year.astype(str)"
   ]
  },
  {
   "cell_type": "code",
   "execution_count": 44,
   "metadata": {},
   "outputs": [
    {
     "data": {
      "text/html": [
       "<div>\n",
       "<style>\n",
       "    .dataframe thead tr:only-child th {\n",
       "        text-align: right;\n",
       "    }\n",
       "\n",
       "    .dataframe thead th {\n",
       "        text-align: left;\n",
       "    }\n",
       "\n",
       "    .dataframe tbody tr th {\n",
       "        vertical-align: top;\n",
       "    }\n",
       "</style>\n",
       "<table border=\"1\" class=\"dataframe\">\n",
       "  <thead>\n",
       "    <tr style=\"text-align: right;\">\n",
       "      <th></th>\n",
       "      <th>Destination</th>\n",
       "      <th>Origin</th>\n",
       "      <th>Year</th>\n",
       "      <th>Month</th>\n",
       "      <th>Value</th>\n",
       "      <th>Date</th>\n",
       "    </tr>\n",
       "  </thead>\n",
       "  <tbody>\n",
       "    <tr>\n",
       "      <th>0</th>\n",
       "      <td>Australia</td>\n",
       "      <td>Afghanistan</td>\n",
       "      <td>1999</td>\n",
       "      <td>January</td>\n",
       "      <td>8</td>\n",
       "      <td>1/1/1999</td>\n",
       "    </tr>\n",
       "    <tr>\n",
       "      <th>1</th>\n",
       "      <td>Australia</td>\n",
       "      <td>Afghanistan</td>\n",
       "      <td>1999</td>\n",
       "      <td>February</td>\n",
       "      <td>10</td>\n",
       "      <td>2/1/1999</td>\n",
       "    </tr>\n",
       "    <tr>\n",
       "      <th>2</th>\n",
       "      <td>Australia</td>\n",
       "      <td>Afghanistan</td>\n",
       "      <td>1999</td>\n",
       "      <td>March</td>\n",
       "      <td>25</td>\n",
       "      <td>3/1/1999</td>\n",
       "    </tr>\n",
       "  </tbody>\n",
       "</table>\n",
       "</div>"
      ],
      "text/plain": [
       "  Destination       Origin  Year     Month Value      Date\n",
       "0   Australia  Afghanistan  1999   January     8  1/1/1999\n",
       "1   Australia  Afghanistan  1999  February    10  2/1/1999\n",
       "2   Australia  Afghanistan  1999     March    25  3/1/1999"
      ]
     },
     "execution_count": 44,
     "metadata": {},
     "output_type": "execute_result"
    }
   ],
   "source": [
    "seekers.head(3)"
   ]
  },
  {
   "cell_type": "code",
   "execution_count": 22,
   "metadata": {},
   "outputs": [
    {
     "data": {
      "text/plain": [
       "Canada                                                  25693\n",
       "USA (INS/DHS)                                           19734\n",
       "USA (EOIR)                                              18559\n",
       "Germany                                                 18147\n",
       "France                                                  17870\n",
       "United Kingdom of Great Britain and Northern Ireland    17709\n",
       "Sweden                                                  17035\n",
       "Belgium                                                 16336\n",
       "Switzerland                                             15404\n",
       "Netherlands                                             14548\n",
       "Norway                                                  11978\n",
       "Austria                                                 11905\n",
       "Australia                                               11220\n",
       "Spain                                                   10477\n",
       "Denmark                                                  9420\n",
       "Ireland                                                  9131\n",
       "Greece                                                   7616\n",
       "Finland                                                  7555\n",
       "Italy                                                    7050\n",
       "Hungary                                                  6597\n",
       "Czech Rep.                                               5836\n",
       "Poland                                                   4616\n",
       "Turkey                                                   4516\n",
       "Cyprus                                                   4500\n",
       "Luxembourg                                               4141\n",
       "Romania                                                  3800\n",
       "Japan                                                    3528\n",
       "Bulgaria                                                 3255\n",
       "Slovakia                                                 3223\n",
       "New Zealand                                              2995\n",
       "Rep. of Korea                                            2946\n",
       "Slovenia                                                 2223\n",
       "Portugal                                                 2161\n",
       "Malta                                                    1953\n",
       "Serbia and Kosovo: S/RES/1244 (1999)                     1585\n",
       "Croatia                                                  1455\n",
       "Iceland                                                   989\n",
       "Lithuania                                                 894\n",
       "The former Yugoslav Rep. of Macedonia                     747\n",
       "Montenegro                                                731\n",
       "Liechtenstein                                             649\n",
       "Latvia                                                    537\n",
       "Estonia                                                   412\n",
       "Bosnia and Herzegovina                                    312\n",
       "Albania                                                   201\n",
       "Name: Country / territory of asylum/residence, dtype: int64"
      ]
     },
     "execution_count": 22,
     "metadata": {},
     "output_type": "execute_result"
    }
   ],
   "source": [
    "seekers['Country / territory of asylum/residence'].value_counts()"
   ]
  },
  {
   "cell_type": "markdown",
   "metadata": {},
   "source": [
    "It look like USA (EOIR) is a subset of USA (INS/DHS). The department of Justice sometimes handles asylum decisions where a person was rejected in the first review but is under a credible threat of persecution. You can read more about the US immigration process [here](http://trac.syr.edu/immigration/reports/159/)\n",
    "\n",
    "I will label the DHS values USA for geocoding by Tableau. It would be interesting to drill into these results with a different data set to see if the US is rejecting more/less people in mortal danger."
   ]
  },
  {
   "cell_type": "code",
   "execution_count": 45,
   "metadata": {
    "collapsed": true
   },
   "outputs": [],
   "source": [
    "seekers.Destination = seekers.Destination.replace('USA (INS/DHS)', 'USA')\n",
    "seekers = seekers[seekers.Destination != 'USA (EOIR)']"
   ]
  },
  {
   "cell_type": "code",
   "execution_count": 47,
   "metadata": {},
   "outputs": [
    {
     "data": {
      "text/plain": [
       "Canada                                                  25693\n",
       "USA                                                     19734\n",
       "Germany                                                 18147\n",
       "France                                                  17870\n",
       "United Kingdom of Great Britain and Northern Ireland    17709\n",
       "Sweden                                                  17035\n",
       "Belgium                                                 16336\n",
       "Switzerland                                             15404\n",
       "Netherlands                                             14548\n",
       "Norway                                                  11978\n",
       "Austria                                                 11905\n",
       "Australia                                               11220\n",
       "Spain                                                   10477\n",
       "Denmark                                                  9420\n",
       "Ireland                                                  9131\n",
       "Greece                                                   7616\n",
       "Finland                                                  7555\n",
       "Italy                                                    7050\n",
       "Hungary                                                  6597\n",
       "Czech Rep.                                               5836\n",
       "Poland                                                   4616\n",
       "Turkey                                                   4516\n",
       "Cyprus                                                   4500\n",
       "Luxembourg                                               4141\n",
       "Romania                                                  3800\n",
       "Japan                                                    3528\n",
       "Bulgaria                                                 3255\n",
       "Slovakia                                                 3223\n",
       "New Zealand                                              2995\n",
       "Rep. of Korea                                            2946\n",
       "Slovenia                                                 2223\n",
       "Portugal                                                 2161\n",
       "Malta                                                    1953\n",
       "Serbia and Kosovo: S/RES/1244 (1999)                     1585\n",
       "Croatia                                                  1455\n",
       "Iceland                                                   989\n",
       "Lithuania                                                 894\n",
       "The former Yugoslav Rep. of Macedonia                     747\n",
       "Montenegro                                                731\n",
       "Liechtenstein                                             649\n",
       "Latvia                                                    537\n",
       "Estonia                                                   412\n",
       "Bosnia and Herzegovina                                    312\n",
       "Albania                                                   201\n",
       "Name: Destination, dtype: int64"
      ]
     },
     "execution_count": 47,
     "metadata": {},
     "output_type": "execute_result"
    }
   ],
   "source": [
    "seekers.Destination.value_counts()"
   ]
  },
  {
   "cell_type": "code",
   "execution_count": 49,
   "metadata": {
    "collapsed": true
   },
   "outputs": [],
   "source": [
    "seekers.to_csv('unhcr_asylumseekers_monthly_clean.csv')"
   ]
  },
  {
   "cell_type": "code",
   "execution_count": null,
   "metadata": {
    "collapsed": true
   },
   "outputs": [],
   "source": []
  }
 ],
 "metadata": {
  "kernelspec": {
   "display_name": "Python 3",
   "language": "python",
   "name": "python3"
  },
  "language_info": {
   "codemirror_mode": {
    "name": "ipython",
    "version": 3
   },
   "file_extension": ".py",
   "mimetype": "text/x-python",
   "name": "python",
   "nbconvert_exporter": "python",
   "pygments_lexer": "ipython3",
   "version": "3.6.1"
  }
 },
 "nbformat": 4,
 "nbformat_minor": 2
}
