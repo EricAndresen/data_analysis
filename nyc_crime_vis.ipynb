{
 "cells": [
  {
   "cell_type": "markdown",
   "metadata": {},
   "source": [
    "# Deciding Where to Move In NYC by Crime Density\n",
    "## Visualizing 220,000+ incidents using Pandas and Gmaps.\n",
    "After working at the UN in New York for a few months in early 2017 I fell in love with the city, and decided that its the perfect place to transition to a career in Data Science. But when I asked people where I should move, a lot of what I heard about which neighborhoods are good and bad seemed either vague or plain contradictory. Luckily NYPD recently started putting every incident report online in an open dataset, so to figure out which neighborhoods are really safe I created a heatmap of crime density for the whole city. (Bonus points for finally building this data portfolio and starting my job hunt in earnest)."
   ]
  },
  {
   "cell_type": "markdown",
   "metadata": {},
   "source": [
    "## Step 1 | Getting and Cleaning the Data\n",
    "NYC has an <a href=\"https://data.cityofnewyork.us/Public-Safety/Crime-Map-/5jvd-shfj/data\"> absolutely gorgeous data set</a> in its OpenData repository for all the police incidents over the past several years. New York and San Francisco are both putting a lot of effort into opening up their data, so if you haven't started playing around with yet <a href=\"https://opendata.cityofnewyork.us/\">check it out!</a>"
   ]
  },
  {
   "cell_type": "code",
   "execution_count": 1,
   "metadata": {},
   "outputs": [
    {
     "name": "stdout",
     "output_type": "stream",
     "text": [
      "(227371, 24)\n",
      "Index(['CMPLNT_NUM', 'CMPLNT_FR_DT', 'CMPLNT_FR_TM', 'CMPLNT_TO_DT',\n",
      "       'CMPLNT_TO_TM', 'RPT_DT', 'KY_CD', 'OFNS_DESC', 'PD_CD', 'PD_DESC',\n",
      "       'CRM_ATPT_CPTD_CD', 'LAW_CAT_CD', 'JURIS_DESC', 'BORO_NM',\n",
      "       'ADDR_PCT_CD', 'LOC_OF_OCCUR_DESC', 'PREM_TYP_DESC', 'PARKS_NM',\n",
      "       'HADEVELOPT', 'X_COORD_CD', 'Y_COORD_CD', 'Latitude', 'Longitude',\n",
      "       'Lat_Lon'],\n",
      "      dtype='object')\n"
     ]
    },
    {
     "data": {
      "text/html": [
       "<div>\n",
       "<style>\n",
       "    .dataframe thead tr:only-child th {\n",
       "        text-align: right;\n",
       "    }\n",
       "\n",
       "    .dataframe thead th {\n",
       "        text-align: left;\n",
       "    }\n",
       "\n",
       "    .dataframe tbody tr th {\n",
       "        vertical-align: top;\n",
       "    }\n",
       "</style>\n",
       "<table border=\"1\" class=\"dataframe\">\n",
       "  <thead>\n",
       "    <tr style=\"text-align: right;\">\n",
       "      <th></th>\n",
       "      <th>CMPLNT_NUM</th>\n",
       "      <th>CMPLNT_FR_DT</th>\n",
       "      <th>CMPLNT_FR_TM</th>\n",
       "      <th>CMPLNT_TO_DT</th>\n",
       "      <th>CMPLNT_TO_TM</th>\n",
       "      <th>RPT_DT</th>\n",
       "      <th>KY_CD</th>\n",
       "      <th>OFNS_DESC</th>\n",
       "      <th>PD_CD</th>\n",
       "      <th>PD_DESC</th>\n",
       "      <th>...</th>\n",
       "      <th>ADDR_PCT_CD</th>\n",
       "      <th>LOC_OF_OCCUR_DESC</th>\n",
       "      <th>PREM_TYP_DESC</th>\n",
       "      <th>PARKS_NM</th>\n",
       "      <th>HADEVELOPT</th>\n",
       "      <th>X_COORD_CD</th>\n",
       "      <th>Y_COORD_CD</th>\n",
       "      <th>Latitude</th>\n",
       "      <th>Longitude</th>\n",
       "      <th>Lat_Lon</th>\n",
       "    </tr>\n",
       "  </thead>\n",
       "  <tbody>\n",
       "    <tr>\n",
       "      <th>0</th>\n",
       "      <td>417734073</td>\n",
       "      <td>06/30/2017</td>\n",
       "      <td>23:40:00</td>\n",
       "      <td>06/30/2017</td>\n",
       "      <td>23:45:00</td>\n",
       "      <td>06/30/2017</td>\n",
       "      <td>121</td>\n",
       "      <td>CRIMINAL MISCHIEF &amp; RELATED OF</td>\n",
       "      <td>269.0</td>\n",
       "      <td>MISCHIEF,CRIMINAL,    UNCL 2ND</td>\n",
       "      <td>...</td>\n",
       "      <td>90</td>\n",
       "      <td>INSIDE</td>\n",
       "      <td>FAST FOOD</td>\n",
       "      <td>NaN</td>\n",
       "      <td>NaN</td>\n",
       "      <td>1000157.0</td>\n",
       "      <td>194732.0</td>\n",
       "      <td>40.701165</td>\n",
       "      <td>-73.942633</td>\n",
       "      <td>(40.701165044, -73.942632596)</td>\n",
       "    </tr>\n",
       "    <tr>\n",
       "      <th>1</th>\n",
       "      <td>433995840</td>\n",
       "      <td>06/30/2017</td>\n",
       "      <td>23:20:00</td>\n",
       "      <td>06/30/2017</td>\n",
       "      <td>23:24:00</td>\n",
       "      <td>06/30/2017</td>\n",
       "      <td>578</td>\n",
       "      <td>HARRASSMENT 2</td>\n",
       "      <td>637.0</td>\n",
       "      <td>HARASSMENT,SUBD 1,CIVILIAN</td>\n",
       "      <td>...</td>\n",
       "      <td>32</td>\n",
       "      <td>INSIDE</td>\n",
       "      <td>RESIDENCE - PUBLIC HOUSING</td>\n",
       "      <td>NaN</td>\n",
       "      <td>NaN</td>\n",
       "      <td>1001751.0</td>\n",
       "      <td>241630.0</td>\n",
       "      <td>40.829885</td>\n",
       "      <td>-73.936762</td>\n",
       "      <td>(40.829884885, -73.936761711)</td>\n",
       "    </tr>\n",
       "    <tr>\n",
       "      <th>2</th>\n",
       "      <td>641950009</td>\n",
       "      <td>06/30/2017</td>\n",
       "      <td>23:16:00</td>\n",
       "      <td>06/30/2017</td>\n",
       "      <td>23:17:00</td>\n",
       "      <td>06/30/2017</td>\n",
       "      <td>235</td>\n",
       "      <td>DANGEROUS DRUGS</td>\n",
       "      <td>567.0</td>\n",
       "      <td>MARIJUANA, POSSESSION 4 &amp; 5</td>\n",
       "      <td>...</td>\n",
       "      <td>73</td>\n",
       "      <td>INSIDE</td>\n",
       "      <td>RESIDENCE - PUBLIC HOUSING</td>\n",
       "      <td>NaN</td>\n",
       "      <td>NaN</td>\n",
       "      <td>1009835.0</td>\n",
       "      <td>184539.0</td>\n",
       "      <td>40.673165</td>\n",
       "      <td>-73.907767</td>\n",
       "      <td>(40.673164918, -73.90776746)</td>\n",
       "    </tr>\n",
       "    <tr>\n",
       "      <th>3</th>\n",
       "      <td>220585856</td>\n",
       "      <td>06/30/2017</td>\n",
       "      <td>23:15:00</td>\n",
       "      <td>06/30/2017</td>\n",
       "      <td>23:20:00</td>\n",
       "      <td>06/30/2017</td>\n",
       "      <td>105</td>\n",
       "      <td>ROBBERY</td>\n",
       "      <td>366.0</td>\n",
       "      <td>ROBBERY,BICYCLE</td>\n",
       "      <td>...</td>\n",
       "      <td>9</td>\n",
       "      <td>FRONT OF</td>\n",
       "      <td>FAST FOOD</td>\n",
       "      <td>NaN</td>\n",
       "      <td>NaN</td>\n",
       "      <td>987358.0</td>\n",
       "      <td>204898.0</td>\n",
       "      <td>40.729082</td>\n",
       "      <td>-73.988788</td>\n",
       "      <td>(40.729082038, -73.988787701)</td>\n",
       "    </tr>\n",
       "    <tr>\n",
       "      <th>4</th>\n",
       "      <td>272762078</td>\n",
       "      <td>06/30/2017</td>\n",
       "      <td>23:10:00</td>\n",
       "      <td>06/30/2017</td>\n",
       "      <td>23:15:00</td>\n",
       "      <td>06/30/2017</td>\n",
       "      <td>578</td>\n",
       "      <td>HARRASSMENT 2</td>\n",
       "      <td>638.0</td>\n",
       "      <td>HARASSMENT,SUBD 3,4,5</td>\n",
       "      <td>...</td>\n",
       "      <td>47</td>\n",
       "      <td>FRONT OF</td>\n",
       "      <td>STREET</td>\n",
       "      <td>NaN</td>\n",
       "      <td>NaN</td>\n",
       "      <td>1022347.0</td>\n",
       "      <td>261604.0</td>\n",
       "      <td>40.884643</td>\n",
       "      <td>-73.862225</td>\n",
       "      <td>(40.884642655, -73.862224781)</td>\n",
       "    </tr>\n",
       "    <tr>\n",
       "      <th>5</th>\n",
       "      <td>203755694</td>\n",
       "      <td>06/30/2017</td>\n",
       "      <td>23:04:00</td>\n",
       "      <td>06/30/2017</td>\n",
       "      <td>23:04:00</td>\n",
       "      <td>06/30/2017</td>\n",
       "      <td>578</td>\n",
       "      <td>HARRASSMENT 2</td>\n",
       "      <td>638.0</td>\n",
       "      <td>HARASSMENT,SUBD 3,4,5</td>\n",
       "      <td>...</td>\n",
       "      <td>75</td>\n",
       "      <td>NaN</td>\n",
       "      <td>STREET</td>\n",
       "      <td>NaN</td>\n",
       "      <td>NaN</td>\n",
       "      <td>1020862.0</td>\n",
       "      <td>189449.0</td>\n",
       "      <td>40.686603</td>\n",
       "      <td>-73.867988</td>\n",
       "      <td>(40.686603007, -73.867988476)</td>\n",
       "    </tr>\n",
       "    <tr>\n",
       "      <th>6</th>\n",
       "      <td>492229929</td>\n",
       "      <td>06/30/2017</td>\n",
       "      <td>23:00:00</td>\n",
       "      <td>NaN</td>\n",
       "      <td>NaN</td>\n",
       "      <td>06/30/2017</td>\n",
       "      <td>353</td>\n",
       "      <td>UNAUTHORIZED USE OF A VEHICLE</td>\n",
       "      <td>462.0</td>\n",
       "      <td>UNAUTHORIZED USE VEHICLE 3</td>\n",
       "      <td>...</td>\n",
       "      <td>90</td>\n",
       "      <td>FRONT OF</td>\n",
       "      <td>STREET</td>\n",
       "      <td>NaN</td>\n",
       "      <td>NaN</td>\n",
       "      <td>1000011.0</td>\n",
       "      <td>194520.0</td>\n",
       "      <td>40.700583</td>\n",
       "      <td>-73.943160</td>\n",
       "      <td>(40.700583415, -73.943159643)</td>\n",
       "    </tr>\n",
       "    <tr>\n",
       "      <th>7</th>\n",
       "      <td>454291567</td>\n",
       "      <td>06/30/2017</td>\n",
       "      <td>23:00:00</td>\n",
       "      <td>06/30/2017</td>\n",
       "      <td>23:15:00</td>\n",
       "      <td>06/30/2017</td>\n",
       "      <td>359</td>\n",
       "      <td>OFFENSES AGAINST PUBLIC ADMINI</td>\n",
       "      <td>750.0</td>\n",
       "      <td>RESISTING ARREST</td>\n",
       "      <td>...</td>\n",
       "      <td>73</td>\n",
       "      <td>FRONT OF</td>\n",
       "      <td>STREET</td>\n",
       "      <td>NaN</td>\n",
       "      <td>NaN</td>\n",
       "      <td>1008950.0</td>\n",
       "      <td>180855.0</td>\n",
       "      <td>40.663056</td>\n",
       "      <td>-73.910971</td>\n",
       "      <td>(40.663055675, -73.910971382)</td>\n",
       "    </tr>\n",
       "    <tr>\n",
       "      <th>8</th>\n",
       "      <td>280557625</td>\n",
       "      <td>06/30/2017</td>\n",
       "      <td>23:00:00</td>\n",
       "      <td>06/30/2017</td>\n",
       "      <td>23:10:00</td>\n",
       "      <td>06/30/2017</td>\n",
       "      <td>351</td>\n",
       "      <td>CRIMINAL MISCHIEF &amp; RELATED OF</td>\n",
       "      <td>259.0</td>\n",
       "      <td>CRIMINAL MISCHIEF,UNCLASSIFIED 4</td>\n",
       "      <td>...</td>\n",
       "      <td>122</td>\n",
       "      <td>FRONT OF</td>\n",
       "      <td>RESIDENCE-HOUSE</td>\n",
       "      <td>NaN</td>\n",
       "      <td>NaN</td>\n",
       "      <td>941080.0</td>\n",
       "      <td>142146.0</td>\n",
       "      <td>40.556737</td>\n",
       "      <td>-74.155358</td>\n",
       "      <td>(40.556736781, -74.155358237)</td>\n",
       "    </tr>\n",
       "    <tr>\n",
       "      <th>9</th>\n",
       "      <td>954201465</td>\n",
       "      <td>06/30/2017</td>\n",
       "      <td>23:00:00</td>\n",
       "      <td>06/30/2017</td>\n",
       "      <td>23:10:00</td>\n",
       "      <td>06/30/2017</td>\n",
       "      <td>359</td>\n",
       "      <td>OFFENSES AGAINST PUBLIC ADMINI</td>\n",
       "      <td>748.0</td>\n",
       "      <td>CONTEMPT,CRIMINAL</td>\n",
       "      <td>...</td>\n",
       "      <td>114</td>\n",
       "      <td>NaN</td>\n",
       "      <td>STREET</td>\n",
       "      <td>NaN</td>\n",
       "      <td>NaN</td>\n",
       "      <td>1008020.0</td>\n",
       "      <td>217458.0</td>\n",
       "      <td>40.763525</td>\n",
       "      <td>-73.914194</td>\n",
       "      <td>(40.763524687, -73.914194293)</td>\n",
       "    </tr>\n",
       "  </tbody>\n",
       "</table>\n",
       "<p>10 rows × 24 columns</p>\n",
       "</div>"
      ],
      "text/plain": [
       "   CMPLNT_NUM CMPLNT_FR_DT CMPLNT_FR_TM CMPLNT_TO_DT CMPLNT_TO_TM      RPT_DT  \\\n",
       "0   417734073   06/30/2017     23:40:00   06/30/2017     23:45:00  06/30/2017   \n",
       "1   433995840   06/30/2017     23:20:00   06/30/2017     23:24:00  06/30/2017   \n",
       "2   641950009   06/30/2017     23:16:00   06/30/2017     23:17:00  06/30/2017   \n",
       "3   220585856   06/30/2017     23:15:00   06/30/2017     23:20:00  06/30/2017   \n",
       "4   272762078   06/30/2017     23:10:00   06/30/2017     23:15:00  06/30/2017   \n",
       "5   203755694   06/30/2017     23:04:00   06/30/2017     23:04:00  06/30/2017   \n",
       "6   492229929   06/30/2017     23:00:00          NaN          NaN  06/30/2017   \n",
       "7   454291567   06/30/2017     23:00:00   06/30/2017     23:15:00  06/30/2017   \n",
       "8   280557625   06/30/2017     23:00:00   06/30/2017     23:10:00  06/30/2017   \n",
       "9   954201465   06/30/2017     23:00:00   06/30/2017     23:10:00  06/30/2017   \n",
       "\n",
       "   KY_CD                       OFNS_DESC  PD_CD  \\\n",
       "0    121  CRIMINAL MISCHIEF & RELATED OF  269.0   \n",
       "1    578                   HARRASSMENT 2  637.0   \n",
       "2    235                 DANGEROUS DRUGS  567.0   \n",
       "3    105                         ROBBERY  366.0   \n",
       "4    578                   HARRASSMENT 2  638.0   \n",
       "5    578                   HARRASSMENT 2  638.0   \n",
       "6    353   UNAUTHORIZED USE OF A VEHICLE  462.0   \n",
       "7    359  OFFENSES AGAINST PUBLIC ADMINI  750.0   \n",
       "8    351  CRIMINAL MISCHIEF & RELATED OF  259.0   \n",
       "9    359  OFFENSES AGAINST PUBLIC ADMINI  748.0   \n",
       "\n",
       "                            PD_DESC              ...                \\\n",
       "0    MISCHIEF,CRIMINAL,    UNCL 2ND              ...                 \n",
       "1        HARASSMENT,SUBD 1,CIVILIAN              ...                 \n",
       "2       MARIJUANA, POSSESSION 4 & 5              ...                 \n",
       "3                   ROBBERY,BICYCLE              ...                 \n",
       "4             HARASSMENT,SUBD 3,4,5              ...                 \n",
       "5             HARASSMENT,SUBD 3,4,5              ...                 \n",
       "6        UNAUTHORIZED USE VEHICLE 3              ...                 \n",
       "7                  RESISTING ARREST              ...                 \n",
       "8  CRIMINAL MISCHIEF,UNCLASSIFIED 4              ...                 \n",
       "9                 CONTEMPT,CRIMINAL              ...                 \n",
       "\n",
       "  ADDR_PCT_CD LOC_OF_OCCUR_DESC               PREM_TYP_DESC PARKS_NM  \\\n",
       "0          90            INSIDE                   FAST FOOD      NaN   \n",
       "1          32            INSIDE  RESIDENCE - PUBLIC HOUSING      NaN   \n",
       "2          73            INSIDE  RESIDENCE - PUBLIC HOUSING      NaN   \n",
       "3           9          FRONT OF                   FAST FOOD      NaN   \n",
       "4          47          FRONT OF                      STREET      NaN   \n",
       "5          75               NaN                      STREET      NaN   \n",
       "6          90          FRONT OF                      STREET      NaN   \n",
       "7          73          FRONT OF                      STREET      NaN   \n",
       "8         122          FRONT OF             RESIDENCE-HOUSE      NaN   \n",
       "9         114               NaN                      STREET      NaN   \n",
       "\n",
       "   HADEVELOPT X_COORD_CD Y_COORD_CD   Latitude  Longitude  \\\n",
       "0         NaN  1000157.0   194732.0  40.701165 -73.942633   \n",
       "1         NaN  1001751.0   241630.0  40.829885 -73.936762   \n",
       "2         NaN  1009835.0   184539.0  40.673165 -73.907767   \n",
       "3         NaN   987358.0   204898.0  40.729082 -73.988788   \n",
       "4         NaN  1022347.0   261604.0  40.884643 -73.862225   \n",
       "5         NaN  1020862.0   189449.0  40.686603 -73.867988   \n",
       "6         NaN  1000011.0   194520.0  40.700583 -73.943160   \n",
       "7         NaN  1008950.0   180855.0  40.663056 -73.910971   \n",
       "8         NaN   941080.0   142146.0  40.556737 -74.155358   \n",
       "9         NaN  1008020.0   217458.0  40.763525 -73.914194   \n",
       "\n",
       "                         Lat_Lon  \n",
       "0  (40.701165044, -73.942632596)  \n",
       "1  (40.829884885, -73.936761711)  \n",
       "2   (40.673164918, -73.90776746)  \n",
       "3  (40.729082038, -73.988787701)  \n",
       "4  (40.884642655, -73.862224781)  \n",
       "5  (40.686603007, -73.867988476)  \n",
       "6  (40.700583415, -73.943159643)  \n",
       "7  (40.663055675, -73.910971382)  \n",
       "8  (40.556736781, -74.155358237)  \n",
       "9  (40.763524687, -73.914194293)  \n",
       "\n",
       "[10 rows x 24 columns]"
      ]
     },
     "execution_count": 1,
     "metadata": {},
     "output_type": "execute_result"
    }
   ],
   "source": [
    "#read the raw csv file and take a look\n",
    "import pandas as pd\n",
    "df = pd.read_csv(\"/Users/ericandresen/data/nyc/Crime_Map_.csv\")\n",
    "print(df.shape)\n",
    "print(df.columns)\n",
    "df.head(10)"
   ]
  },
  {
   "cell_type": "markdown",
   "metadata": {},
   "source": [
    "Looks like there are almost 223,000 records and 24 features. From the head its clear that some of these aren't going to be revelevant for our analysis, and there are a few NaN values we need to worry about (a little bit later). Let's use the <a href=\"https://data.cityofnewyork.us/api/views/5jvd-shfj/files/fc4f191a-6adf-4268-a1ae-8525a8d7027b?download=true&filename=NYPDIncidentLevelDataFootnotes.pdf\">codebook </a> to narrow it down. We'll keep:\n",
    "\n",
    "1. `CMPLNT_FR_DT`, and `CMPLNT_FR_TM`: The date and time of the event. The dataset has both the date/time when the incident started and when it ended - there are more start values and they are more relevant so we'll stick with those. \n",
    "2. `OFNS_DESC`: The description of the incidents classification code, so we can filter by type.\n",
    "3. `LAW_CAT_CD`: Level of offense (felony, misdemeanor, violation)\n",
    "4. `BORO_NM` and `ADDR_PCT_CD`: Borough and Precinct Numbers where the incident took place to help narrow down the geography.\n",
    "5. `LOC_OF_OCCUR_DESC`, `PREM_TYP_DESC`: Location of incidenct and the premise type (resident, street, grocery store, etc.) \n",
    "6. `PARKS_NM`: Name of Park incidence occured in\n",
    "7. `Latitude` and `Longitude` so we can map them."
   ]
  },
  {
   "cell_type": "code",
   "execution_count": 2,
   "metadata": {},
   "outputs": [
    {
     "name": "stdout",
     "output_type": "stream",
     "text": [
      "(227371, 11)\n",
      "(223373, 11)\n"
     ]
    },
    {
     "data": {
      "text/html": [
       "<div>\n",
       "<style>\n",
       "    .dataframe thead tr:only-child th {\n",
       "        text-align: right;\n",
       "    }\n",
       "\n",
       "    .dataframe thead th {\n",
       "        text-align: left;\n",
       "    }\n",
       "\n",
       "    .dataframe tbody tr th {\n",
       "        vertical-align: top;\n",
       "    }\n",
       "</style>\n",
       "<table border=\"1\" class=\"dataframe\">\n",
       "  <thead>\n",
       "    <tr style=\"text-align: right;\">\n",
       "      <th></th>\n",
       "      <th>DATE_TIME</th>\n",
       "      <th>BORO_NM</th>\n",
       "      <th>OFNS_DESC</th>\n",
       "      <th>PD_DESC</th>\n",
       "      <th>LAW_CAT_CD</th>\n",
       "      <th>ADDR_PCT_CD</th>\n",
       "      <th>LOC_OF_OCCUR_DESC</th>\n",
       "      <th>PREM_TYP_DESC</th>\n",
       "      <th>PARKS_NM</th>\n",
       "      <th>Latitude</th>\n",
       "      <th>Longitude</th>\n",
       "    </tr>\n",
       "  </thead>\n",
       "  <tbody>\n",
       "    <tr>\n",
       "      <th>0</th>\n",
       "      <td>2017-06-30 23:40:00</td>\n",
       "      <td>BROOKLYN</td>\n",
       "      <td>CRIMINAL MISCHIEF &amp; RELATED OF</td>\n",
       "      <td>MISCHIEF,CRIMINAL,    UNCL 2ND</td>\n",
       "      <td>FELONY</td>\n",
       "      <td>90</td>\n",
       "      <td>INSIDE</td>\n",
       "      <td>FAST FOOD</td>\n",
       "      <td>NaN</td>\n",
       "      <td>40.701165</td>\n",
       "      <td>-73.942633</td>\n",
       "    </tr>\n",
       "    <tr>\n",
       "      <th>1</th>\n",
       "      <td>2017-06-30 23:20:00</td>\n",
       "      <td>MANHATTAN</td>\n",
       "      <td>HARRASSMENT 2</td>\n",
       "      <td>HARASSMENT,SUBD 1,CIVILIAN</td>\n",
       "      <td>VIOLATION</td>\n",
       "      <td>32</td>\n",
       "      <td>INSIDE</td>\n",
       "      <td>RESIDENCE - PUBLIC HOUSING</td>\n",
       "      <td>NaN</td>\n",
       "      <td>40.829885</td>\n",
       "      <td>-73.936762</td>\n",
       "    </tr>\n",
       "    <tr>\n",
       "      <th>2</th>\n",
       "      <td>2017-06-30 23:16:00</td>\n",
       "      <td>BROOKLYN</td>\n",
       "      <td>DANGEROUS DRUGS</td>\n",
       "      <td>MARIJUANA, POSSESSION 4 &amp; 5</td>\n",
       "      <td>MISDEMEANOR</td>\n",
       "      <td>73</td>\n",
       "      <td>INSIDE</td>\n",
       "      <td>RESIDENCE - PUBLIC HOUSING</td>\n",
       "      <td>NaN</td>\n",
       "      <td>40.673165</td>\n",
       "      <td>-73.907767</td>\n",
       "    </tr>\n",
       "    <tr>\n",
       "      <th>3</th>\n",
       "      <td>2017-06-30 23:15:00</td>\n",
       "      <td>MANHATTAN</td>\n",
       "      <td>ROBBERY</td>\n",
       "      <td>ROBBERY,BICYCLE</td>\n",
       "      <td>FELONY</td>\n",
       "      <td>9</td>\n",
       "      <td>FRONT OF</td>\n",
       "      <td>FAST FOOD</td>\n",
       "      <td>NaN</td>\n",
       "      <td>40.729082</td>\n",
       "      <td>-73.988788</td>\n",
       "    </tr>\n",
       "    <tr>\n",
       "      <th>4</th>\n",
       "      <td>2017-06-30 23:10:00</td>\n",
       "      <td>BRONX</td>\n",
       "      <td>HARRASSMENT 2</td>\n",
       "      <td>HARASSMENT,SUBD 3,4,5</td>\n",
       "      <td>VIOLATION</td>\n",
       "      <td>47</td>\n",
       "      <td>FRONT OF</td>\n",
       "      <td>STREET</td>\n",
       "      <td>NaN</td>\n",
       "      <td>40.884643</td>\n",
       "      <td>-73.862225</td>\n",
       "    </tr>\n",
       "  </tbody>\n",
       "</table>\n",
       "</div>"
      ],
      "text/plain": [
       "            DATE_TIME    BORO_NM                       OFNS_DESC  \\\n",
       "0 2017-06-30 23:40:00   BROOKLYN  CRIMINAL MISCHIEF & RELATED OF   \n",
       "1 2017-06-30 23:20:00  MANHATTAN                   HARRASSMENT 2   \n",
       "2 2017-06-30 23:16:00   BROOKLYN                 DANGEROUS DRUGS   \n",
       "3 2017-06-30 23:15:00  MANHATTAN                         ROBBERY   \n",
       "4 2017-06-30 23:10:00      BRONX                   HARRASSMENT 2   \n",
       "\n",
       "                          PD_DESC   LAW_CAT_CD  ADDR_PCT_CD LOC_OF_OCCUR_DESC  \\\n",
       "0  MISCHIEF,CRIMINAL,    UNCL 2ND       FELONY           90            INSIDE   \n",
       "1      HARASSMENT,SUBD 1,CIVILIAN    VIOLATION           32            INSIDE   \n",
       "2     MARIJUANA, POSSESSION 4 & 5  MISDEMEANOR           73            INSIDE   \n",
       "3                 ROBBERY,BICYCLE       FELONY            9          FRONT OF   \n",
       "4           HARASSMENT,SUBD 3,4,5    VIOLATION           47          FRONT OF   \n",
       "\n",
       "                PREM_TYP_DESC PARKS_NM   Latitude  Longitude  \n",
       "0                   FAST FOOD      NaN  40.701165 -73.942633  \n",
       "1  RESIDENCE - PUBLIC HOUSING      NaN  40.829885 -73.936762  \n",
       "2  RESIDENCE - PUBLIC HOUSING      NaN  40.673165 -73.907767  \n",
       "3                   FAST FOOD      NaN  40.729082 -73.988788  \n",
       "4                      STREET      NaN  40.884643 -73.862225  "
      ]
     },
     "execution_count": 2,
     "metadata": {},
     "output_type": "execute_result"
    }
   ],
   "source": [
    "#combine and convert the date and time of the event to datetime format\n",
    "df[\"DATE_TIME\"] = df[\"CMPLNT_FR_DT\"] + ' ' + df[\"CMPLNT_FR_TM\"]\n",
    "df[\"DATE_TIME\"] = pd.to_datetime(df[\"DATE_TIME\"], format=\"%m/%d/%Y %H:%M:%S\", errors=\"coerce\")\n",
    "\n",
    "#filter by relevant columns\n",
    "cols = [\"DATE_TIME\", \"BORO_NM\", \"OFNS_DESC\", \"PD_DESC\", \"LAW_CAT_CD\", \"ADDR_PCT_CD\", \"LOC_OF_OCCUR_DESC\", \"PREM_TYP_DESC\", \"PARKS_NM\", \"Latitude\", \"Longitude\"]\n",
    "crime_data = df[cols]\n",
    "\n",
    "#drop NaN values for time and location \n",
    "print(crime_data.shape)\n",
    "crime_data = crime_data.dropna(subset=[\"DATE_TIME\",\"Latitude\", \"Longitude\"])\n",
    "print(crime_data.shape)\n",
    "\n",
    "#verify by looking at it\n",
    "crime_data.head()"
   ]
  },
  {
   "cell_type": "markdown",
   "metadata": {},
   "source": [
    "Now that the dates are in datetime format we can explore the data a little more and make sure its evenly distributed over time and geography."
   ]
  },
  {
   "cell_type": "code",
   "execution_count": 3,
   "metadata": {},
   "outputs": [
    {
     "name": "stdout",
     "output_type": "stream",
     "text": [
      "BROOKLYN         65280\n",
      "MANHATTAN        54078\n",
      "BRONX            49942\n",
      "QUEENS           43817\n",
      "STATEN ISLAND    10256\n",
      "Name: BORO_NM, dtype: int64\n",
      "2017    215484\n",
      "2016      6879\n",
      "2015       445\n",
      "2014       231\n",
      "2013        88\n",
      "2012        84\n",
      "2011        38\n",
      "2010        32\n",
      "2007        20\n",
      "2009        16\n",
      "2008        12\n",
      "2001         7\n",
      "2004         6\n",
      "2005         5\n",
      "2006         4\n",
      "2003         3\n",
      "2002         3\n",
      "2000         2\n",
      "1996         2\n",
      "1917         2\n",
      "1977         2\n",
      "1998         1\n",
      "1997         1\n",
      "1916         1\n",
      "1993         1\n",
      "1990         1\n",
      "1986         1\n",
      "1984         1\n",
      "1983         1\n",
      "Name: DATE_TIME, dtype: int64\n"
     ]
    }
   ],
   "source": [
    "print(crime_data[\"BORO_NM\"].value_counts())\n",
    "print(crime_data[\"DATE_TIME\"].dt.year.value_counts())"
   ]
  },
  {
   "cell_type": "markdown",
   "metadata": {},
   "source": [
    "2017 has the most data by far, which makes sense given how recent the NY Open Data initiative started hosting this data. Let's filter out everything that is before 2016 as well as anything that was coerced to Nan in the conversion to datetime, or that doesn't have location data."
   ]
  },
  {
   "cell_type": "code",
   "execution_count": 4,
   "metadata": {},
   "outputs": [
    {
     "name": "stdout",
     "output_type": "stream",
     "text": [
      "2017    215484\n",
      "2016      6879\n",
      "Name: DATE_TIME, dtype: int64\n",
      "BROOKLYN         64994\n",
      "MANHATTAN        53829\n",
      "BRONX            49757\n",
      "QUEENS           43569\n",
      "STATEN ISLAND    10214\n",
      "Name: BORO_NM, dtype: int64\n"
     ]
    }
   ],
   "source": [
    "#filter by year and check that distribution across the boroughs is still comparable\n",
    "crime_data = crime_data[crime_data[\"DATE_TIME\"].dt.year >= 2016]\n",
    "print(crime_data[\"DATE_TIME\"].dt.year.value_counts())\n",
    "print(crime_data[\"BORO_NM\"].value_counts())"
   ]
  },
  {
   "cell_type": "markdown",
   "metadata": {},
   "source": [
    "It's interesting that Brooklyn has more incidents than Manhattan, but given the difference in size I'm surprised that the difference isn't higher. Then again Manhattan is much denser, so who knows how this actually shakes out. As a side project it would be interesting to normalize this by population to see what has the higher incident rate. The most importan things is there is plenty of data across Boroughs for meaningful analysis. \n",
    "\n",
    "There are so many fewer incidents in 2016 it's clear that only a small number of incidents are accounted for in the data. It's also important to note that 2017 isn't over, so this difference will actually be even greater by the end of the year.\n",
    "\n",
    "This makes me wonder if there is a bias in the 2016 results. For example, maybe only more serious crimes were recorded in 2016, or maybe the data ramped up towards the end of the year. Let's make a few charts to explore.  "
   ]
  },
  {
   "cell_type": "code",
   "execution_count": 5,
   "metadata": {},
   "outputs": [
    {
     "data": {
      "text/plain": [
       "<matplotlib.text.Text at 0x10fe2ecf8>"
      ]
     },
     "execution_count": 5,
     "metadata": {},
     "output_type": "execute_result"
    },
    {
     "data": {
      "image/png": "[encoded data removed]",
      "text/plain": [
       "<matplotlib.figure.Figure at 0x10f946d68>"
      ]
     },
     "metadata": {},
     "output_type": "display_data"
    }
   ],
   "source": [
    "%matplotlib inline\n",
    "import matplotlib.pyplot as plt\n",
    "fig = plt.figure(figsize=(8,4))\n",
    "ax1 = fig.add_subplot(1,2,1)\n",
    "ax2 = fig.add_subplot(1,2,2)\n",
    "\n",
    "#get crime by category for each year and normalize to percent (make comparable across years)\n",
    "categories_2017 = crime_data[crime_data[\"DATE_TIME\"].dt.year == 2017][\"LAW_CAT_CD\"].value_counts()\n",
    "total_2017 = sum(categories_2017)\n",
    "categories_percent_2017 = categories_2017 / total_2017\n",
    "\n",
    "categories_2016 = crime_data[crime_data[\"DATE_TIME\"].dt.year == 2016][\"LAW_CAT_CD\"].value_counts()\n",
    "total_2016 = sum(categories_2016)\n",
    "categories_percent_2016 = categories_2016/total_2016\n",
    "\n",
    "#make grouped bargraph\n",
    "pd.concat([categories_percent_2016.rename(\"2016\"), categories_percent_2017.rename(\"2017\")], axis=1).plot.bar(ax=ax1)\n",
    "ax1.set_title(\"Crime by Category\")\n",
    "\n",
    "#then do the same by monthly occurence\n",
    "#normalizing by percent isn't strictly necessary, but its a little hack to make it easier to read\n",
    "by_month_2017 = crime_data[crime_data[\"DATE_TIME\"].dt.year == 2017][\"DATE_TIME\"].dt.month.value_counts().sort_index()\n",
    "by_month_2016 = crime_data[crime_data[\"DATE_TIME\"].dt.year == 2016][\"DATE_TIME\"].dt.month.value_counts().sort_index()\n",
    "\n",
    "by_month_percent_2017 = by_month_2017 / total_2017\n",
    "by_month_percent_2016 = by_month_2016 / total_2016\n",
    "\n",
    "pd.concat([by_month_percent_2016.rename(\"2016\"), by_month_percent_2017.rename(\"2017\")], axis=1).plot.bar(ax=ax2)\n",
    "ax2.set_title(\"Crime by Month\")"
   ]
  },
  {
   "cell_type": "markdown",
   "metadata": {
    "collapsed": true
   },
   "source": [
    "It looks like felony's might be over represented in 2016, but more importantly it's fairly obvious that more comprehensive reporting was phased in during the last few months of the year. In other words December 2016 has way more data than the rest of the year, which means December will totally ovewhelm the other months. We'll drop 2016 and just focus on the first 6 months that we have for this year.\n",
    "\n",
    "This only leaves us with data for the first six months of 2017, which isn't ideal, but the upside is it looks like the number of incidents has stayed fairly consistent across that time. We can plot some of the numbers from 2015 as a spot check to make sure crime rates are fairly stable across the year."
   ]
  },
  {
   "cell_type": "code",
   "execution_count": 6,
   "metadata": {},
   "outputs": [
    {
     "name": "stdout",
     "output_type": "stream",
     "text": [
      "0.020300981574879005\n"
     ]
    },
    {
     "data": {
      "image/png": "[encoded data removed]",
      "text/plain": [
       "<matplotlib.figure.Figure at 0x1112f0898>"
      ]
     },
     "metadata": {},
     "output_type": "display_data"
    }
   ],
   "source": [
    "#plot 2015 crime by month normalized to percent to make scale of difference easier to judge\n",
    "crime_2015 = df[cols][df[\"DATE_TIME\"].dt.year == 2015]\n",
    "by_month_percent_2015 = crime_2015[\"DATE_TIME\"].dt.month.value_counts().sort_index() / crime_2015.shape[0]\n",
    "by_month_percent_2015.plot.bar()\n",
    "print(by_month_percent_2015.std())"
   ]
  },
  {
   "cell_type": "markdown",
   "metadata": {},
   "source": [
    "There are spikes at the beginning and end of the year, which don't seemt to be replicatd in the 2017 data. But overall this is consisent enough to make me feel comfortable extrapolating out the data we have from 2017 so far."
   ]
  },
  {
   "cell_type": "code",
   "execution_count": 7,
   "metadata": {},
   "outputs": [
    {
     "data": {
      "text/plain": [
       "(215484, 11)"
      ]
     },
     "execution_count": 7,
     "metadata": {},
     "output_type": "execute_result"
    }
   ],
   "source": [
    "#filter to only include 2017\n",
    "crime_data = crime_data[crime_data[\"DATE_TIME\"].dt.year == 2017]\n",
    "crime_data.shape"
   ]
  },
  {
   "cell_type": "markdown",
   "metadata": {},
   "source": [
    "Now it's time to look at offenses. Not all offenses represent risk factors. Lower level offenses like traffic citations aren't predictors of danger and will cloud the map from representing what we want it to. On the other hand just using the level of offense isn't enough. Harrassment, for example, is considered a low level offense, violation, but there's a lot that can be called harrassment that is still a risk factor. "
   ]
  },
  {
   "cell_type": "code",
   "execution_count": 8,
   "metadata": {},
   "outputs": [
    {
     "data": {
      "text/plain": [
       "array(['ADMINISTRATIVE CODE', 'AGRICULTURE & MRKTS LAW-UNCLASSIFIED',\n",
       "       'ALCOHOLIC BEVERAGE CONTROL LAW', 'ANTICIPATORY OFFENSES', 'ARSON',\n",
       "       'ASSAULT 3 & RELATED OFFENSES', \"BURGLAR'S TOOLS\", 'BURGLARY',\n",
       "       'CHILD ABANDONMENT/NON SUPPORT', 'CRIMINAL MISCHIEF & RELATED OF',\n",
       "       'CRIMINAL TRESPASS', 'DANGEROUS DRUGS', 'DANGEROUS WEAPONS',\n",
       "       'DISORDERLY CONDUCT', 'DISRUPTION OF A RELIGIOUS SERV',\n",
       "       'ENDAN WELFARE INCOMP', 'ESCAPE 3', 'FELONY ASSAULT', 'FORGERY',\n",
       "       'FRAUDS', 'FRAUDULENT ACCOSTING', 'GAMBLING', 'GRAND LARCENY',\n",
       "       'GRAND LARCENY OF MOTOR VEHICLE', 'HARRASSMENT 2',\n",
       "       'HOMICIDE-NEGLIGENT,UNCLASSIFIE', 'HOMICIDE-NEGLIGENT-VEHICLE',\n",
       "       'INTOXICATED & IMPAIRED DRIVING', 'INTOXICATED/IMPAIRED DRIVING',\n",
       "       'JOSTLING', 'KIDNAPPING', 'KIDNAPPING & RELATED OFFENSES',\n",
       "       'LOITERING/GAMBLING (CARDS, DIC', 'MISCELLANEOUS PENAL LAW',\n",
       "       'MURDER & NON-NEGL. MANSLAUGHTER', 'NEW YORK CITY HEALTH CODE',\n",
       "       'NYS LAWS-UNCLASSIFIED FELONY', 'NYS LAWS-UNCLASSIFIED VIOLATION',\n",
       "       'OFF. AGNST PUB ORD SENSBLTY &', 'OFFENSES AGAINST PUBLIC ADMINI',\n",
       "       'OFFENSES AGAINST PUBLIC SAFETY', 'OFFENSES AGAINST THE PERSON',\n",
       "       'OFFENSES INVOLVING FRAUD', 'OFFENSES RELATED TO CHILDREN',\n",
       "       'OTHER OFFENSES RELATED TO THEF', 'OTHER STATE LAWS',\n",
       "       'OTHER STATE LAWS (NON PENAL LA',\n",
       "       'OTHER STATE LAWS (NON PENAL LAW)', 'PETIT LARCENY',\n",
       "       'PETIT LARCENY OF MOTOR VEHICLE', 'POSSESSION OF STOLEN PROPERTY',\n",
       "       'PROSTITUTION & RELATED OFFENSES', 'ROBBERY', 'SEX CRIMES',\n",
       "       'THEFT OF SERVICES', 'THEFT-FRAUD', 'UNAUTHORIZED USE OF A VEHICLE',\n",
       "       'VEHICLE AND TRAFFIC LAWS', nan], dtype=object)"
      ]
     },
     "execution_count": 8,
     "metadata": {},
     "output_type": "execute_result"
    }
   ],
   "source": [
    "#list unique values in offense description\n",
    "crime_data[\"OFNS_DESC\"].sort_values().unique()"
   ]
  },
  {
   "cell_type": "markdown",
   "metadata": {},
   "source": [
    "Most of these look like crimes that represent real risk. But there are two that might cloud the data:\n",
    "\n",
    "1. <a href=\"https://dmv.ny.gov/about-dmv/order-copy-nys-vehicle-and-traffic-law\">'VEHICLE AND TRAFFIC LAWS'</a> - Traffic citations will make crime seem higher where traffic citations are disproportionately high (e.g. Manhattan?), and intuitively they aren't a strong correlate to crime, so we'll drop.\n",
    "2. <a href=\"http://codes.findlaw.com/ny/alcoholic-beverage-control-law/abc-sect-130.html\">'ALCOHOLIC BEVERAGE CONTROL LAW'</a> - Dropped because selling alcohol without a license isn't a risk factor.\n",
    "\n",
    "The big debate for me was Marijuana which is nested in the Dangerous Drugs category. Marijuana is scientifically not dangerous and shouldn't be illegal to start with, but for now I'll to keep it. I don't have enough hard data on how these types of charges correlate to crime beyond my personal bias against criminality."
   ]
  },
  {
   "cell_type": "code",
   "execution_count": 9,
   "metadata": {
    "collapsed": true
   },
   "outputs": [],
   "source": [
    "#filter out the above\n",
    "bool_list = crime_data[\"OFNS_DESC\"].isin(['VEHICLE AND TRAFFIC LAWS', 'ALCOHOLIC BEVERAGE CONTROL LAW']) == False\n",
    "crime_data = crime_data[bool_list]\n",
    "#verify\n",
    "#crime_data[\"OFNS_DESC\"].sort_values().unique()"
   ]
  },
  {
   "cell_type": "markdown",
   "metadata": {},
   "source": [
    "# Step 2 | Map it!\n",
    "\n",
    "The goal is to see how crime is distrubuted throughout the city, so I'm using the <a href=\"http://jupyter-gmaps.readthedocs.io/en/latest/gmaps.html#heatmaps\"> Jupyter Gmaps </a> module to plot these incidents as a heat map on top of an interactive map of New York. Green is low incident density and red is higher. The first map I made was a total mush of red at a high altitude and totally green when closer in (keep in mind visual density changes in proportion to perspective), so I also changed the intensity and the radius of each reported crime until the map was more comprehensible. \n",
    "\n",
    "*(Unfortunately github won't host these maps so I've substituted them with pictures. If you fork this code and put in your own api key you can see these maps interactively.)* "
   ]
  },
  {
   "cell_type": "code",
   "execution_count": 19,
   "metadata": {},
   "outputs": [
    {
     "data": {
      "application/vnd.jupyter.widget-view+json": {
       "model_id": "e22f3fa88bf34e59b9714f5177e84ee3",
       "version_major": 2,
       "version_minor": 0
      },
      "text/html": [
       "<p>Failed to display Jupyter Widget of type <code>Figure</code>.</p>\n",
       "<p>\n",
       "  If you're reading this message in Jupyter Notebook or JupyterLab, it may mean\n",
       "  that the widgets JavaScript is still loading. If this message persists, it\n",
       "  likely means that the widgets JavaScript library is either not installed or\n",
       "  not enabled. See the <a href=\"https://ipywidgets.readthedocs.io/en/stable/user_install.html\">Jupyter\n",
       "  Widgets Documentation</a> for setup instructions.\n",
       "</p>\n",
       "<p>\n",
       "  If you're reading this message in another notebook frontend (for example, a static\n",
       "  rendering on GitHub or <a href=\"https://nbviewer.jupyter.org/\">NBViewer</a>),\n",
       "  it may mean that your frontend doesn't currently support widgets.\n",
       "</p>\n"
      ],
      "text/plain": [
       "Figure()"
      ]
     },
     "metadata": {},
     "output_type": "display_data"
    }
   ],
   "source": [
    "import os\n",
    "import gmaps\n",
    "#API key hidden with environmental variable\n",
    "gmaps.configure(api_key=os.environ[\"GOOGLE_API_KEY\"])\n",
    "\n",
    "#set initial frame\n",
    "new_york_coordinates = (40.75, -74.00)\n",
    "\n",
    "fig = gmaps.figure(center=new_york_coordinates, zoom_level=12)\n",
    "locations = crime_data[[\"Latitude\",\"Longitude\"]]\n",
    "heatmap_layer = gmaps.heatmap_layer(locations)\n",
    "\n",
    "#adjust red to make more understandable\n",
    "heatmap_layer.max_intensity = 35\n",
    "heatmap_layer.point_radius = 5\n",
    "\n",
    "fig.add_layer(heatmap_layer)\n",
    "\n",
    "fig"
   ]
  },
  {
   "cell_type": "markdown",
   "metadata": {
    "collapsed": true
   },
   "source": [
    "It's important to remember that this map equally weights each incident, so red means crime is more dense, not more serious. It's also important to remember that Manhattan is more dense, so this map doesn't necessarily mean that crime is higher per person in Manhattan. But, in this case we don't care about crime per person we care about geographical density of crime because regardless of how many people live around you, you want to know how dangerous it is to walk down the street.\n",
    "\n",
    "If you zoom into midtown you can see that there are hotspots around the touristy areas of town - specifically around Times Square and the Empire State Building. If you move further west into hells kitchen, crime drops. Where as if you go the other direction there's mid level density around second street and a cluster around Trump tower. \n",
    "\n",
    "Given the last year it makes me wonder if this is a lot of low level offenses from protests around that area. Moving further north its clear that the Upper East Side is fairly safe, but once you get into east harlem, things start looking a lot more red. No real surprises there. Interestingly the west side of 14th street has considerably higher density than the west side, which goes into the over all quite safe east village. Any ideas why that might be (message me). There is an interesting hotspot formed just south of there in the box formed between E. Houston, Allen, and Essex Streets, which jives with my experience from when I was living south of there, but it still makes me quite curious as to why its so concentrated there. If memory serves right that area and east of there are lower income areas (something to look at in a future project).\n",
    "\n",
    "There are similarly predictable patterns in Brooklyn with a few surprises mixed in. Williamsburg is fairly safe. It was surprising to me how safe Bushwick and Ridgewood are, but there is a definite cluster at the border between Williamsburg and Bushwick at Broadway Triangle. I don't know this area too well, but it's very interesting that there is a cluster of crime between two relatively peacful areas rather than in the slightly more risky area directly to the south. \n",
    "\n",
    "The area I'm really interested is in the Prospect Park region. My girlfriend lives there, and I'm looking at apartments in the area with my sister. The original inspiration for this visualization was all of the rumors I had heard about the area. Some of it was certaintly true, but the rest of it seemed to be a mix of out dated information, anecdotal evidence, and racial stereotypes, which virginia tech's (really cool)<a href=\"https://demographics.virginia.edu/DotMap/\">racial dot map</a> confirms are true, atleast in the the sense that Crown Heights is overwhelmingly black (compare this with Park Slope on the other side). In this respect, this map is fascinating. You can see Park Slope is quite peaceful, where as you can follow Flatbush Ave. down the other side and see an almost perfect gradient to the stereotypically dangerous neighborhood at Prospect Park's south east corner. What's especially interesting is that the north side of the Prospect Lefferts Garden neighborhood is  a relatively low risk island between Brownsville to the north east and East Flatbush to its south west. This whole area has a rough reputation, but in reality crime is only clustering into specific areas. \n",
    "\n",
    "Equally as interesting is the north side of the park, which is just starting to gentrify. It's almost as if Park Slope is creeping across the north side of the park, boxed in by Fulton to the north and slowly chipping away at New York Ave to the east. This is really where I wish I had better historical data so that we could see if incident density over the past few years supports this. \n",
    "\n",
    "The major problem with these conclusions (besides the fact that I'm wildly extrapolating data from a few months of crime), is that this map treats all crime the same. In other words disorderly conduct will have the same effect on our perception of density as a double homicide. So our next step is to make sure hotspots aren't being drowned out by lower level crime. I have a hunch we'll see the same general pattern. There are several ways to test this. I could weight more serious crimes so that they have a higher intensity on the map (i.e. will make areas redder faster). But it would still be difficult to tell exactly what the differences are if they are small, especially with such a large area to cover. The opposite extreme is seperating out the data completely so we can get a clean read, but this has the opposite problem of decontextualizing felonies from the overall pattern of crime. A good data visualization is all about making things as easy to grasp as possible, so I'm going to add another layer on top of the existing map to emphasize more serious crimes in a different color - black.  "
   ]
  },
  {
   "cell_type": "code",
   "execution_count": 37,
   "metadata": {},
   "outputs": [
    {
     "data": {
      "application/vnd.jupyter.widget-view+json": {
       "model_id": "b9ce2e006e90439799e9d21f3ba5ccfc",
       "version_major": 2,
       "version_minor": 0
      },
      "text/html": [
       "<p>Failed to display Jupyter Widget of type <code>Figure</code>.</p>\n",
       "<p>\n",
       "  If you're reading this message in Jupyter Notebook or JupyterLab, it may mean\n",
       "  that the widgets JavaScript is still loading. If this message persists, it\n",
       "  likely means that the widgets JavaScript library is either not installed or\n",
       "  not enabled. See the <a href=\"https://ipywidgets.readthedocs.io/en/stable/user_install.html\">Jupyter\n",
       "  Widgets Documentation</a> for setup instructions.\n",
       "</p>\n",
       "<p>\n",
       "  If you're reading this message in another notebook frontend (for example, a static\n",
       "  rendering on GitHub or <a href=\"https://nbviewer.jupyter.org/\">NBViewer</a>),\n",
       "  it may mean that your frontend doesn't currently support widgets.\n",
       "</p>\n"
      ],
      "text/plain": [
       "Figure()"
      ]
     },
     "metadata": {},
     "output_type": "display_data"
    }
   ],
   "source": [
    "#seperate data into felony and non-felony offenses\n",
    "felonies = crime_data[crime_data[\"LAW_CAT_CD\"] == \"FELONY\"]\n",
    "crime_data_wo_felonies = crime_data[crime_data[\"LAW_CAT_CD\"] != \"FELONY\"]\n",
    "\n",
    "gmaps.configure(api_key=os.environ[\"GOOGLE_API_KEY\"])\n",
    "\n",
    "new_york_coordinates = (40.75, -74.00)\n",
    "\n",
    "fig = gmaps.figure(center=new_york_coordinates, zoom_level=12)\n",
    "\n",
    "#map non-felonies\n",
    "locations = crime_data_wo_felonies[[\"Latitude\",\"Longitude\"]]\n",
    "heatmap_layer = gmaps.heatmap_layer(locations)\n",
    "heatmap_layer.max_intensity = 50\n",
    "heatmap_layer.point_radius = 5\n",
    "fig.add_layer(heatmap_layer)\n",
    "\n",
    "#map felonies\n",
    "felony_locations = felonies[[\"Latitude\",\"Longitude\"]]\n",
    "felony_layer = gmaps.heatmap_layer(felony_locations)\n",
    "felony_layer.gradient = [\n",
    "    (200, 200, 200, 0.0),\n",
    "    (0, 0, 0, 1.0),\n",
    "    (0, 0, 0, 1.0)\n",
    "]\n",
    "felony_layer.max_intensity = 75 #compare 20 and 25\n",
    "felony_layer.point_radius = 5\n",
    "fig.add_layer(felony_layer)\n",
    "\n",
    "fig"
   ]
  },
  {
   "cell_type": "markdown",
   "metadata": {
    "collapsed": true
   },
   "source": [
    "It's not too surprising that felonies occur in the same areas that crime in general does. But if you look closely a trend emerges. Felonies are most dense, that is to say most likely, in areas where overall crime is the densest. This raises interesting questions about whether lower level crimes are predictive of more serious, violent crimes. If this is the case then that means there are \"gateway\" crimes or multiplier effects of low level crime that lead to more serious offenses. Intuitively this makes sense. For the most part when we think of a \"bad\" part of town we think of it as holistically bad, not just bad in one respect. What we don't think about is that in itself is an odd thing to assume and it represents a ghettoization both literally and figuritively of dangerous areas. I'm sure there are studies on this, so if you know any I'd love for you send them my way! (UPDATE: A friend of mine told me that this is known as the broken windows theory) \n",
    "\n",
    "Finally its interesting to notice that some of my earlier assumptions about crime in touristy areas being unserious doesn't seem to be the case. There are still high density of felonies around Times Square and the Empire State Building, which makes me want to drill down further into the data to find out what they are. For now though, the visualization has served its purpose in getting context about where are good and bad areas to look for a place to live. Now all I have to do is add a few lines of code to add prospective places as markers on the map. Thanks for following along! "
   ]
  },
  {
   "cell_type": "markdown",
   "metadata": {},
   "source": [
    "### UPDATE: Moving In\n",
    "Since I first made this map, I've used it to find a great little place in Crown Heights. I've also started talks with my small home town to use similar techniques on their internal data to help them better understand geographical patterns of gang violence. In the meantime I'm looking for a data driven job in NYC, drop me a line if you know of anything!"
   ]
  }
 ],
 "metadata": {
  "kernelspec": {
   "display_name": "Python 3",
   "language": "python",
   "name": "python3"
  },
  "language_info": {
   "codemirror_mode": {
    "name": "ipython",
    "version": 3
   },
   "file_extension": ".py",
   "mimetype": "text/x-python",
   "name": "python",
   "nbconvert_exporter": "python",
   "pygments_lexer": "ipython3",
   "version": "3.6.1"
  }
 },
 "nbformat": 4,
 "nbformat_minor": 2
}
